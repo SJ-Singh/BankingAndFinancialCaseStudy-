{
 "cells": [
  {
   "cell_type": "code",
   "execution_count": 1,
   "metadata": {},
   "outputs": [],
   "source": [
    "#importinga the libraries required\n",
    "import pandas as pd\n",
    "import numpy as np\n",
    "import matplotlib.pyplot as plt\n",
    "import seaborn as sns\n",
    "\n",
    "#code to display max 500 rows and 500 columns\n",
    "pd.set_option('display.max_columns', 500)\n",
    "pd.set_option('display.max_rows', 500)\n",
    "import warnings\n",
    "warnings.filterwarnings('ignore')"
   ]
  },
  {
   "cell_type": "code",
   "execution_count": 2,
   "metadata": {},
   "outputs": [],
   "source": [
    "#importing the data set\n",
    "application_dataset = pd.read_csv('application_data.csv')\n"
   ]
  },
  {
   "cell_type": "code",
   "execution_count": 3,
   "metadata": {},
   "outputs": [
    {
     "data": {
      "text/html": [
       "<div>\n",
       "<style scoped>\n",
       "    .dataframe tbody tr th:only-of-type {\n",
       "        vertical-align: middle;\n",
       "    }\n",
       "\n",
       "    .dataframe tbody tr th {\n",
       "        vertical-align: top;\n",
       "    }\n",
       "\n",
       "    .dataframe thead th {\n",
       "        text-align: right;\n",
       "    }\n",
       "</style>\n",
       "<table border=\"1\" class=\"dataframe\">\n",
       "  <thead>\n",
       "    <tr style=\"text-align: right;\">\n",
       "      <th></th>\n",
       "      <th>SK_ID_CURR</th>\n",
       "      <th>TARGET</th>\n",
       "      <th>NAME_CONTRACT_TYPE</th>\n",
       "      <th>CODE_GENDER</th>\n",
       "      <th>FLAG_OWN_CAR</th>\n",
       "      <th>FLAG_OWN_REALTY</th>\n",
       "      <th>CNT_CHILDREN</th>\n",
       "      <th>AMT_INCOME_TOTAL</th>\n",
       "      <th>AMT_CREDIT</th>\n",
       "      <th>AMT_ANNUITY</th>\n",
       "      <th>AMT_GOODS_PRICE</th>\n",
       "      <th>NAME_TYPE_SUITE</th>\n",
       "      <th>NAME_INCOME_TYPE</th>\n",
       "      <th>NAME_EDUCATION_TYPE</th>\n",
       "      <th>NAME_FAMILY_STATUS</th>\n",
       "      <th>NAME_HOUSING_TYPE</th>\n",
       "      <th>REGION_POPULATION_RELATIVE</th>\n",
       "      <th>DAYS_BIRTH</th>\n",
       "      <th>DAYS_EMPLOYED</th>\n",
       "      <th>DAYS_REGISTRATION</th>\n",
       "      <th>DAYS_ID_PUBLISH</th>\n",
       "      <th>OWN_CAR_AGE</th>\n",
       "      <th>FLAG_MOBIL</th>\n",
       "      <th>FLAG_EMP_PHONE</th>\n",
       "      <th>FLAG_WORK_PHONE</th>\n",
       "      <th>FLAG_CONT_MOBILE</th>\n",
       "      <th>FLAG_PHONE</th>\n",
       "      <th>FLAG_EMAIL</th>\n",
       "      <th>OCCUPATION_TYPE</th>\n",
       "      <th>CNT_FAM_MEMBERS</th>\n",
       "      <th>REGION_RATING_CLIENT</th>\n",
       "      <th>REGION_RATING_CLIENT_W_CITY</th>\n",
       "      <th>WEEKDAY_APPR_PROCESS_START</th>\n",
       "      <th>HOUR_APPR_PROCESS_START</th>\n",
       "      <th>REG_REGION_NOT_LIVE_REGION</th>\n",
       "      <th>REG_REGION_NOT_WORK_REGION</th>\n",
       "      <th>LIVE_REGION_NOT_WORK_REGION</th>\n",
       "      <th>REG_CITY_NOT_LIVE_CITY</th>\n",
       "      <th>REG_CITY_NOT_WORK_CITY</th>\n",
       "      <th>LIVE_CITY_NOT_WORK_CITY</th>\n",
       "      <th>ORGANIZATION_TYPE</th>\n",
       "      <th>EXT_SOURCE_1</th>\n",
       "      <th>EXT_SOURCE_2</th>\n",
       "      <th>EXT_SOURCE_3</th>\n",
       "      <th>APARTMENTS_AVG</th>\n",
       "      <th>BASEMENTAREA_AVG</th>\n",
       "      <th>YEARS_BEGINEXPLUATATION_AVG</th>\n",
       "      <th>YEARS_BUILD_AVG</th>\n",
       "      <th>COMMONAREA_AVG</th>\n",
       "      <th>ELEVATORS_AVG</th>\n",
       "      <th>ENTRANCES_AVG</th>\n",
       "      <th>FLOORSMAX_AVG</th>\n",
       "      <th>FLOORSMIN_AVG</th>\n",
       "      <th>LANDAREA_AVG</th>\n",
       "      <th>LIVINGAPARTMENTS_AVG</th>\n",
       "      <th>LIVINGAREA_AVG</th>\n",
       "      <th>NONLIVINGAPARTMENTS_AVG</th>\n",
       "      <th>NONLIVINGAREA_AVG</th>\n",
       "      <th>APARTMENTS_MODE</th>\n",
       "      <th>BASEMENTAREA_MODE</th>\n",
       "      <th>YEARS_BEGINEXPLUATATION_MODE</th>\n",
       "      <th>YEARS_BUILD_MODE</th>\n",
       "      <th>COMMONAREA_MODE</th>\n",
       "      <th>ELEVATORS_MODE</th>\n",
       "      <th>ENTRANCES_MODE</th>\n",
       "      <th>FLOORSMAX_MODE</th>\n",
       "      <th>FLOORSMIN_MODE</th>\n",
       "      <th>LANDAREA_MODE</th>\n",
       "      <th>LIVINGAPARTMENTS_MODE</th>\n",
       "      <th>LIVINGAREA_MODE</th>\n",
       "      <th>NONLIVINGAPARTMENTS_MODE</th>\n",
       "      <th>NONLIVINGAREA_MODE</th>\n",
       "      <th>APARTMENTS_MEDI</th>\n",
       "      <th>BASEMENTAREA_MEDI</th>\n",
       "      <th>YEARS_BEGINEXPLUATATION_MEDI</th>\n",
       "      <th>YEARS_BUILD_MEDI</th>\n",
       "      <th>COMMONAREA_MEDI</th>\n",
       "      <th>ELEVATORS_MEDI</th>\n",
       "      <th>ENTRANCES_MEDI</th>\n",
       "      <th>FLOORSMAX_MEDI</th>\n",
       "      <th>FLOORSMIN_MEDI</th>\n",
       "      <th>LANDAREA_MEDI</th>\n",
       "      <th>LIVINGAPARTMENTS_MEDI</th>\n",
       "      <th>LIVINGAREA_MEDI</th>\n",
       "      <th>NONLIVINGAPARTMENTS_MEDI</th>\n",
       "      <th>NONLIVINGAREA_MEDI</th>\n",
       "      <th>FONDKAPREMONT_MODE</th>\n",
       "      <th>HOUSETYPE_MODE</th>\n",
       "      <th>TOTALAREA_MODE</th>\n",
       "      <th>WALLSMATERIAL_MODE</th>\n",
       "      <th>EMERGENCYSTATE_MODE</th>\n",
       "      <th>OBS_30_CNT_SOCIAL_CIRCLE</th>\n",
       "      <th>DEF_30_CNT_SOCIAL_CIRCLE</th>\n",
       "      <th>OBS_60_CNT_SOCIAL_CIRCLE</th>\n",
       "      <th>DEF_60_CNT_SOCIAL_CIRCLE</th>\n",
       "      <th>DAYS_LAST_PHONE_CHANGE</th>\n",
       "      <th>FLAG_DOCUMENT_2</th>\n",
       "      <th>FLAG_DOCUMENT_3</th>\n",
       "      <th>FLAG_DOCUMENT_4</th>\n",
       "      <th>FLAG_DOCUMENT_5</th>\n",
       "      <th>FLAG_DOCUMENT_6</th>\n",
       "      <th>FLAG_DOCUMENT_7</th>\n",
       "      <th>FLAG_DOCUMENT_8</th>\n",
       "      <th>FLAG_DOCUMENT_9</th>\n",
       "      <th>FLAG_DOCUMENT_10</th>\n",
       "      <th>FLAG_DOCUMENT_11</th>\n",
       "      <th>FLAG_DOCUMENT_12</th>\n",
       "      <th>FLAG_DOCUMENT_13</th>\n",
       "      <th>FLAG_DOCUMENT_14</th>\n",
       "      <th>FLAG_DOCUMENT_15</th>\n",
       "      <th>FLAG_DOCUMENT_16</th>\n",
       "      <th>FLAG_DOCUMENT_17</th>\n",
       "      <th>FLAG_DOCUMENT_18</th>\n",
       "      <th>FLAG_DOCUMENT_19</th>\n",
       "      <th>FLAG_DOCUMENT_20</th>\n",
       "      <th>FLAG_DOCUMENT_21</th>\n",
       "      <th>AMT_REQ_CREDIT_BUREAU_HOUR</th>\n",
       "      <th>AMT_REQ_CREDIT_BUREAU_DAY</th>\n",
       "      <th>AMT_REQ_CREDIT_BUREAU_WEEK</th>\n",
       "      <th>AMT_REQ_CREDIT_BUREAU_MON</th>\n",
       "      <th>AMT_REQ_CREDIT_BUREAU_QRT</th>\n",
       "      <th>AMT_REQ_CREDIT_BUREAU_YEAR</th>\n",
       "    </tr>\n",
       "  </thead>\n",
       "  <tbody>\n",
       "    <tr>\n",
       "      <th>0</th>\n",
       "      <td>100002</td>\n",
       "      <td>1</td>\n",
       "      <td>Cash loans</td>\n",
       "      <td>M</td>\n",
       "      <td>N</td>\n",
       "      <td>Y</td>\n",
       "      <td>0</td>\n",
       "      <td>202500.0</td>\n",
       "      <td>406597.5</td>\n",
       "      <td>24700.5</td>\n",
       "      <td>351000.0</td>\n",
       "      <td>Unaccompanied</td>\n",
       "      <td>Working</td>\n",
       "      <td>Secondary / secondary special</td>\n",
       "      <td>Single / not married</td>\n",
       "      <td>House / apartment</td>\n",
       "      <td>0.018801</td>\n",
       "      <td>-9461</td>\n",
       "      <td>-637</td>\n",
       "      <td>-3648.0</td>\n",
       "      <td>-2120</td>\n",
       "      <td>NaN</td>\n",
       "      <td>1</td>\n",
       "      <td>1</td>\n",
       "      <td>0</td>\n",
       "      <td>1</td>\n",
       "      <td>1</td>\n",
       "      <td>0</td>\n",
       "      <td>Laborers</td>\n",
       "      <td>1.0</td>\n",
       "      <td>2</td>\n",
       "      <td>2</td>\n",
       "      <td>WEDNESDAY</td>\n",
       "      <td>10</td>\n",
       "      <td>0</td>\n",
       "      <td>0</td>\n",
       "      <td>0</td>\n",
       "      <td>0</td>\n",
       "      <td>0</td>\n",
       "      <td>0</td>\n",
       "      <td>Business Entity Type 3</td>\n",
       "      <td>0.083037</td>\n",
       "      <td>0.262949</td>\n",
       "      <td>0.139376</td>\n",
       "      <td>0.0247</td>\n",
       "      <td>0.0369</td>\n",
       "      <td>0.9722</td>\n",
       "      <td>0.6192</td>\n",
       "      <td>0.0143</td>\n",
       "      <td>0.00</td>\n",
       "      <td>0.0690</td>\n",
       "      <td>0.0833</td>\n",
       "      <td>0.1250</td>\n",
       "      <td>0.0369</td>\n",
       "      <td>0.0202</td>\n",
       "      <td>0.0190</td>\n",
       "      <td>0.0000</td>\n",
       "      <td>0.0000</td>\n",
       "      <td>0.0252</td>\n",
       "      <td>0.0383</td>\n",
       "      <td>0.9722</td>\n",
       "      <td>0.6341</td>\n",
       "      <td>0.0144</td>\n",
       "      <td>0.0000</td>\n",
       "      <td>0.0690</td>\n",
       "      <td>0.0833</td>\n",
       "      <td>0.1250</td>\n",
       "      <td>0.0377</td>\n",
       "      <td>0.022</td>\n",
       "      <td>0.0198</td>\n",
       "      <td>0.0</td>\n",
       "      <td>0.0</td>\n",
       "      <td>0.0250</td>\n",
       "      <td>0.0369</td>\n",
       "      <td>0.9722</td>\n",
       "      <td>0.6243</td>\n",
       "      <td>0.0144</td>\n",
       "      <td>0.00</td>\n",
       "      <td>0.0690</td>\n",
       "      <td>0.0833</td>\n",
       "      <td>0.1250</td>\n",
       "      <td>0.0375</td>\n",
       "      <td>0.0205</td>\n",
       "      <td>0.0193</td>\n",
       "      <td>0.0000</td>\n",
       "      <td>0.00</td>\n",
       "      <td>reg oper account</td>\n",
       "      <td>block of flats</td>\n",
       "      <td>0.0149</td>\n",
       "      <td>Stone, brick</td>\n",
       "      <td>No</td>\n",
       "      <td>2.0</td>\n",
       "      <td>2.0</td>\n",
       "      <td>2.0</td>\n",
       "      <td>2.0</td>\n",
       "      <td>-1134.0</td>\n",
       "      <td>0</td>\n",
       "      <td>1</td>\n",
       "      <td>0</td>\n",
       "      <td>0</td>\n",
       "      <td>0</td>\n",
       "      <td>0</td>\n",
       "      <td>0</td>\n",
       "      <td>0</td>\n",
       "      <td>0</td>\n",
       "      <td>0</td>\n",
       "      <td>0</td>\n",
       "      <td>0</td>\n",
       "      <td>0</td>\n",
       "      <td>0</td>\n",
       "      <td>0</td>\n",
       "      <td>0</td>\n",
       "      <td>0</td>\n",
       "      <td>0</td>\n",
       "      <td>0</td>\n",
       "      <td>0</td>\n",
       "      <td>0.0</td>\n",
       "      <td>0.0</td>\n",
       "      <td>0.0</td>\n",
       "      <td>0.0</td>\n",
       "      <td>0.0</td>\n",
       "      <td>1.0</td>\n",
       "    </tr>\n",
       "    <tr>\n",
       "      <th>1</th>\n",
       "      <td>100003</td>\n",
       "      <td>0</td>\n",
       "      <td>Cash loans</td>\n",
       "      <td>F</td>\n",
       "      <td>N</td>\n",
       "      <td>N</td>\n",
       "      <td>0</td>\n",
       "      <td>270000.0</td>\n",
       "      <td>1293502.5</td>\n",
       "      <td>35698.5</td>\n",
       "      <td>1129500.0</td>\n",
       "      <td>Family</td>\n",
       "      <td>State servant</td>\n",
       "      <td>Higher education</td>\n",
       "      <td>Married</td>\n",
       "      <td>House / apartment</td>\n",
       "      <td>0.003541</td>\n",
       "      <td>-16765</td>\n",
       "      <td>-1188</td>\n",
       "      <td>-1186.0</td>\n",
       "      <td>-291</td>\n",
       "      <td>NaN</td>\n",
       "      <td>1</td>\n",
       "      <td>1</td>\n",
       "      <td>0</td>\n",
       "      <td>1</td>\n",
       "      <td>1</td>\n",
       "      <td>0</td>\n",
       "      <td>Core staff</td>\n",
       "      <td>2.0</td>\n",
       "      <td>1</td>\n",
       "      <td>1</td>\n",
       "      <td>MONDAY</td>\n",
       "      <td>11</td>\n",
       "      <td>0</td>\n",
       "      <td>0</td>\n",
       "      <td>0</td>\n",
       "      <td>0</td>\n",
       "      <td>0</td>\n",
       "      <td>0</td>\n",
       "      <td>School</td>\n",
       "      <td>0.311267</td>\n",
       "      <td>0.622246</td>\n",
       "      <td>NaN</td>\n",
       "      <td>0.0959</td>\n",
       "      <td>0.0529</td>\n",
       "      <td>0.9851</td>\n",
       "      <td>0.7960</td>\n",
       "      <td>0.0605</td>\n",
       "      <td>0.08</td>\n",
       "      <td>0.0345</td>\n",
       "      <td>0.2917</td>\n",
       "      <td>0.3333</td>\n",
       "      <td>0.0130</td>\n",
       "      <td>0.0773</td>\n",
       "      <td>0.0549</td>\n",
       "      <td>0.0039</td>\n",
       "      <td>0.0098</td>\n",
       "      <td>0.0924</td>\n",
       "      <td>0.0538</td>\n",
       "      <td>0.9851</td>\n",
       "      <td>0.8040</td>\n",
       "      <td>0.0497</td>\n",
       "      <td>0.0806</td>\n",
       "      <td>0.0345</td>\n",
       "      <td>0.2917</td>\n",
       "      <td>0.3333</td>\n",
       "      <td>0.0128</td>\n",
       "      <td>0.079</td>\n",
       "      <td>0.0554</td>\n",
       "      <td>0.0</td>\n",
       "      <td>0.0</td>\n",
       "      <td>0.0968</td>\n",
       "      <td>0.0529</td>\n",
       "      <td>0.9851</td>\n",
       "      <td>0.7987</td>\n",
       "      <td>0.0608</td>\n",
       "      <td>0.08</td>\n",
       "      <td>0.0345</td>\n",
       "      <td>0.2917</td>\n",
       "      <td>0.3333</td>\n",
       "      <td>0.0132</td>\n",
       "      <td>0.0787</td>\n",
       "      <td>0.0558</td>\n",
       "      <td>0.0039</td>\n",
       "      <td>0.01</td>\n",
       "      <td>reg oper account</td>\n",
       "      <td>block of flats</td>\n",
       "      <td>0.0714</td>\n",
       "      <td>Block</td>\n",
       "      <td>No</td>\n",
       "      <td>1.0</td>\n",
       "      <td>0.0</td>\n",
       "      <td>1.0</td>\n",
       "      <td>0.0</td>\n",
       "      <td>-828.0</td>\n",
       "      <td>0</td>\n",
       "      <td>1</td>\n",
       "      <td>0</td>\n",
       "      <td>0</td>\n",
       "      <td>0</td>\n",
       "      <td>0</td>\n",
       "      <td>0</td>\n",
       "      <td>0</td>\n",
       "      <td>0</td>\n",
       "      <td>0</td>\n",
       "      <td>0</td>\n",
       "      <td>0</td>\n",
       "      <td>0</td>\n",
       "      <td>0</td>\n",
       "      <td>0</td>\n",
       "      <td>0</td>\n",
       "      <td>0</td>\n",
       "      <td>0</td>\n",
       "      <td>0</td>\n",
       "      <td>0</td>\n",
       "      <td>0.0</td>\n",
       "      <td>0.0</td>\n",
       "      <td>0.0</td>\n",
       "      <td>0.0</td>\n",
       "      <td>0.0</td>\n",
       "      <td>0.0</td>\n",
       "    </tr>\n",
       "    <tr>\n",
       "      <th>2</th>\n",
       "      <td>100004</td>\n",
       "      <td>0</td>\n",
       "      <td>Revolving loans</td>\n",
       "      <td>M</td>\n",
       "      <td>Y</td>\n",
       "      <td>Y</td>\n",
       "      <td>0</td>\n",
       "      <td>67500.0</td>\n",
       "      <td>135000.0</td>\n",
       "      <td>6750.0</td>\n",
       "      <td>135000.0</td>\n",
       "      <td>Unaccompanied</td>\n",
       "      <td>Working</td>\n",
       "      <td>Secondary / secondary special</td>\n",
       "      <td>Single / not married</td>\n",
       "      <td>House / apartment</td>\n",
       "      <td>0.010032</td>\n",
       "      <td>-19046</td>\n",
       "      <td>-225</td>\n",
       "      <td>-4260.0</td>\n",
       "      <td>-2531</td>\n",
       "      <td>26.0</td>\n",
       "      <td>1</td>\n",
       "      <td>1</td>\n",
       "      <td>1</td>\n",
       "      <td>1</td>\n",
       "      <td>1</td>\n",
       "      <td>0</td>\n",
       "      <td>Laborers</td>\n",
       "      <td>1.0</td>\n",
       "      <td>2</td>\n",
       "      <td>2</td>\n",
       "      <td>MONDAY</td>\n",
       "      <td>9</td>\n",
       "      <td>0</td>\n",
       "      <td>0</td>\n",
       "      <td>0</td>\n",
       "      <td>0</td>\n",
       "      <td>0</td>\n",
       "      <td>0</td>\n",
       "      <td>Government</td>\n",
       "      <td>NaN</td>\n",
       "      <td>0.555912</td>\n",
       "      <td>0.729567</td>\n",
       "      <td>NaN</td>\n",
       "      <td>NaN</td>\n",
       "      <td>NaN</td>\n",
       "      <td>NaN</td>\n",
       "      <td>NaN</td>\n",
       "      <td>NaN</td>\n",
       "      <td>NaN</td>\n",
       "      <td>NaN</td>\n",
       "      <td>NaN</td>\n",
       "      <td>NaN</td>\n",
       "      <td>NaN</td>\n",
       "      <td>NaN</td>\n",
       "      <td>NaN</td>\n",
       "      <td>NaN</td>\n",
       "      <td>NaN</td>\n",
       "      <td>NaN</td>\n",
       "      <td>NaN</td>\n",
       "      <td>NaN</td>\n",
       "      <td>NaN</td>\n",
       "      <td>NaN</td>\n",
       "      <td>NaN</td>\n",
       "      <td>NaN</td>\n",
       "      <td>NaN</td>\n",
       "      <td>NaN</td>\n",
       "      <td>NaN</td>\n",
       "      <td>NaN</td>\n",
       "      <td>NaN</td>\n",
       "      <td>NaN</td>\n",
       "      <td>NaN</td>\n",
       "      <td>NaN</td>\n",
       "      <td>NaN</td>\n",
       "      <td>NaN</td>\n",
       "      <td>NaN</td>\n",
       "      <td>NaN</td>\n",
       "      <td>NaN</td>\n",
       "      <td>NaN</td>\n",
       "      <td>NaN</td>\n",
       "      <td>NaN</td>\n",
       "      <td>NaN</td>\n",
       "      <td>NaN</td>\n",
       "      <td>NaN</td>\n",
       "      <td>NaN</td>\n",
       "      <td>NaN</td>\n",
       "      <td>NaN</td>\n",
       "      <td>NaN</td>\n",
       "      <td>NaN</td>\n",
       "      <td>NaN</td>\n",
       "      <td>0.0</td>\n",
       "      <td>0.0</td>\n",
       "      <td>0.0</td>\n",
       "      <td>0.0</td>\n",
       "      <td>-815.0</td>\n",
       "      <td>0</td>\n",
       "      <td>0</td>\n",
       "      <td>0</td>\n",
       "      <td>0</td>\n",
       "      <td>0</td>\n",
       "      <td>0</td>\n",
       "      <td>0</td>\n",
       "      <td>0</td>\n",
       "      <td>0</td>\n",
       "      <td>0</td>\n",
       "      <td>0</td>\n",
       "      <td>0</td>\n",
       "      <td>0</td>\n",
       "      <td>0</td>\n",
       "      <td>0</td>\n",
       "      <td>0</td>\n",
       "      <td>0</td>\n",
       "      <td>0</td>\n",
       "      <td>0</td>\n",
       "      <td>0</td>\n",
       "      <td>0.0</td>\n",
       "      <td>0.0</td>\n",
       "      <td>0.0</td>\n",
       "      <td>0.0</td>\n",
       "      <td>0.0</td>\n",
       "      <td>0.0</td>\n",
       "    </tr>\n",
       "    <tr>\n",
       "      <th>3</th>\n",
       "      <td>100006</td>\n",
       "      <td>0</td>\n",
       "      <td>Cash loans</td>\n",
       "      <td>F</td>\n",
       "      <td>N</td>\n",
       "      <td>Y</td>\n",
       "      <td>0</td>\n",
       "      <td>135000.0</td>\n",
       "      <td>312682.5</td>\n",
       "      <td>29686.5</td>\n",
       "      <td>297000.0</td>\n",
       "      <td>Unaccompanied</td>\n",
       "      <td>Working</td>\n",
       "      <td>Secondary / secondary special</td>\n",
       "      <td>Civil marriage</td>\n",
       "      <td>House / apartment</td>\n",
       "      <td>0.008019</td>\n",
       "      <td>-19005</td>\n",
       "      <td>-3039</td>\n",
       "      <td>-9833.0</td>\n",
       "      <td>-2437</td>\n",
       "      <td>NaN</td>\n",
       "      <td>1</td>\n",
       "      <td>1</td>\n",
       "      <td>0</td>\n",
       "      <td>1</td>\n",
       "      <td>0</td>\n",
       "      <td>0</td>\n",
       "      <td>Laborers</td>\n",
       "      <td>2.0</td>\n",
       "      <td>2</td>\n",
       "      <td>2</td>\n",
       "      <td>WEDNESDAY</td>\n",
       "      <td>17</td>\n",
       "      <td>0</td>\n",
       "      <td>0</td>\n",
       "      <td>0</td>\n",
       "      <td>0</td>\n",
       "      <td>0</td>\n",
       "      <td>0</td>\n",
       "      <td>Business Entity Type 3</td>\n",
       "      <td>NaN</td>\n",
       "      <td>0.650442</td>\n",
       "      <td>NaN</td>\n",
       "      <td>NaN</td>\n",
       "      <td>NaN</td>\n",
       "      <td>NaN</td>\n",
       "      <td>NaN</td>\n",
       "      <td>NaN</td>\n",
       "      <td>NaN</td>\n",
       "      <td>NaN</td>\n",
       "      <td>NaN</td>\n",
       "      <td>NaN</td>\n",
       "      <td>NaN</td>\n",
       "      <td>NaN</td>\n",
       "      <td>NaN</td>\n",
       "      <td>NaN</td>\n",
       "      <td>NaN</td>\n",
       "      <td>NaN</td>\n",
       "      <td>NaN</td>\n",
       "      <td>NaN</td>\n",
       "      <td>NaN</td>\n",
       "      <td>NaN</td>\n",
       "      <td>NaN</td>\n",
       "      <td>NaN</td>\n",
       "      <td>NaN</td>\n",
       "      <td>NaN</td>\n",
       "      <td>NaN</td>\n",
       "      <td>NaN</td>\n",
       "      <td>NaN</td>\n",
       "      <td>NaN</td>\n",
       "      <td>NaN</td>\n",
       "      <td>NaN</td>\n",
       "      <td>NaN</td>\n",
       "      <td>NaN</td>\n",
       "      <td>NaN</td>\n",
       "      <td>NaN</td>\n",
       "      <td>NaN</td>\n",
       "      <td>NaN</td>\n",
       "      <td>NaN</td>\n",
       "      <td>NaN</td>\n",
       "      <td>NaN</td>\n",
       "      <td>NaN</td>\n",
       "      <td>NaN</td>\n",
       "      <td>NaN</td>\n",
       "      <td>NaN</td>\n",
       "      <td>NaN</td>\n",
       "      <td>NaN</td>\n",
       "      <td>NaN</td>\n",
       "      <td>NaN</td>\n",
       "      <td>NaN</td>\n",
       "      <td>2.0</td>\n",
       "      <td>0.0</td>\n",
       "      <td>2.0</td>\n",
       "      <td>0.0</td>\n",
       "      <td>-617.0</td>\n",
       "      <td>0</td>\n",
       "      <td>1</td>\n",
       "      <td>0</td>\n",
       "      <td>0</td>\n",
       "      <td>0</td>\n",
       "      <td>0</td>\n",
       "      <td>0</td>\n",
       "      <td>0</td>\n",
       "      <td>0</td>\n",
       "      <td>0</td>\n",
       "      <td>0</td>\n",
       "      <td>0</td>\n",
       "      <td>0</td>\n",
       "      <td>0</td>\n",
       "      <td>0</td>\n",
       "      <td>0</td>\n",
       "      <td>0</td>\n",
       "      <td>0</td>\n",
       "      <td>0</td>\n",
       "      <td>0</td>\n",
       "      <td>NaN</td>\n",
       "      <td>NaN</td>\n",
       "      <td>NaN</td>\n",
       "      <td>NaN</td>\n",
       "      <td>NaN</td>\n",
       "      <td>NaN</td>\n",
       "    </tr>\n",
       "    <tr>\n",
       "      <th>4</th>\n",
       "      <td>100007</td>\n",
       "      <td>0</td>\n",
       "      <td>Cash loans</td>\n",
       "      <td>M</td>\n",
       "      <td>N</td>\n",
       "      <td>Y</td>\n",
       "      <td>0</td>\n",
       "      <td>121500.0</td>\n",
       "      <td>513000.0</td>\n",
       "      <td>21865.5</td>\n",
       "      <td>513000.0</td>\n",
       "      <td>Unaccompanied</td>\n",
       "      <td>Working</td>\n",
       "      <td>Secondary / secondary special</td>\n",
       "      <td>Single / not married</td>\n",
       "      <td>House / apartment</td>\n",
       "      <td>0.028663</td>\n",
       "      <td>-19932</td>\n",
       "      <td>-3038</td>\n",
       "      <td>-4311.0</td>\n",
       "      <td>-3458</td>\n",
       "      <td>NaN</td>\n",
       "      <td>1</td>\n",
       "      <td>1</td>\n",
       "      <td>0</td>\n",
       "      <td>1</td>\n",
       "      <td>0</td>\n",
       "      <td>0</td>\n",
       "      <td>Core staff</td>\n",
       "      <td>1.0</td>\n",
       "      <td>2</td>\n",
       "      <td>2</td>\n",
       "      <td>THURSDAY</td>\n",
       "      <td>11</td>\n",
       "      <td>0</td>\n",
       "      <td>0</td>\n",
       "      <td>0</td>\n",
       "      <td>0</td>\n",
       "      <td>1</td>\n",
       "      <td>1</td>\n",
       "      <td>Religion</td>\n",
       "      <td>NaN</td>\n",
       "      <td>0.322738</td>\n",
       "      <td>NaN</td>\n",
       "      <td>NaN</td>\n",
       "      <td>NaN</td>\n",
       "      <td>NaN</td>\n",
       "      <td>NaN</td>\n",
       "      <td>NaN</td>\n",
       "      <td>NaN</td>\n",
       "      <td>NaN</td>\n",
       "      <td>NaN</td>\n",
       "      <td>NaN</td>\n",
       "      <td>NaN</td>\n",
       "      <td>NaN</td>\n",
       "      <td>NaN</td>\n",
       "      <td>NaN</td>\n",
       "      <td>NaN</td>\n",
       "      <td>NaN</td>\n",
       "      <td>NaN</td>\n",
       "      <td>NaN</td>\n",
       "      <td>NaN</td>\n",
       "      <td>NaN</td>\n",
       "      <td>NaN</td>\n",
       "      <td>NaN</td>\n",
       "      <td>NaN</td>\n",
       "      <td>NaN</td>\n",
       "      <td>NaN</td>\n",
       "      <td>NaN</td>\n",
       "      <td>NaN</td>\n",
       "      <td>NaN</td>\n",
       "      <td>NaN</td>\n",
       "      <td>NaN</td>\n",
       "      <td>NaN</td>\n",
       "      <td>NaN</td>\n",
       "      <td>NaN</td>\n",
       "      <td>NaN</td>\n",
       "      <td>NaN</td>\n",
       "      <td>NaN</td>\n",
       "      <td>NaN</td>\n",
       "      <td>NaN</td>\n",
       "      <td>NaN</td>\n",
       "      <td>NaN</td>\n",
       "      <td>NaN</td>\n",
       "      <td>NaN</td>\n",
       "      <td>NaN</td>\n",
       "      <td>NaN</td>\n",
       "      <td>NaN</td>\n",
       "      <td>NaN</td>\n",
       "      <td>NaN</td>\n",
       "      <td>NaN</td>\n",
       "      <td>0.0</td>\n",
       "      <td>0.0</td>\n",
       "      <td>0.0</td>\n",
       "      <td>0.0</td>\n",
       "      <td>-1106.0</td>\n",
       "      <td>0</td>\n",
       "      <td>0</td>\n",
       "      <td>0</td>\n",
       "      <td>0</td>\n",
       "      <td>0</td>\n",
       "      <td>0</td>\n",
       "      <td>1</td>\n",
       "      <td>0</td>\n",
       "      <td>0</td>\n",
       "      <td>0</td>\n",
       "      <td>0</td>\n",
       "      <td>0</td>\n",
       "      <td>0</td>\n",
       "      <td>0</td>\n",
       "      <td>0</td>\n",
       "      <td>0</td>\n",
       "      <td>0</td>\n",
       "      <td>0</td>\n",
       "      <td>0</td>\n",
       "      <td>0</td>\n",
       "      <td>0.0</td>\n",
       "      <td>0.0</td>\n",
       "      <td>0.0</td>\n",
       "      <td>0.0</td>\n",
       "      <td>0.0</td>\n",
       "      <td>0.0</td>\n",
       "    </tr>\n",
       "  </tbody>\n",
       "</table>\n",
       "</div>"
      ],
      "text/plain": [
       "   SK_ID_CURR  TARGET NAME_CONTRACT_TYPE CODE_GENDER FLAG_OWN_CAR  \\\n",
       "0      100002       1         Cash loans           M            N   \n",
       "1      100003       0         Cash loans           F            N   \n",
       "2      100004       0    Revolving loans           M            Y   \n",
       "3      100006       0         Cash loans           F            N   \n",
       "4      100007       0         Cash loans           M            N   \n",
       "\n",
       "  FLAG_OWN_REALTY  CNT_CHILDREN  AMT_INCOME_TOTAL  AMT_CREDIT  AMT_ANNUITY  \\\n",
       "0               Y             0          202500.0    406597.5      24700.5   \n",
       "1               N             0          270000.0   1293502.5      35698.5   \n",
       "2               Y             0           67500.0    135000.0       6750.0   \n",
       "3               Y             0          135000.0    312682.5      29686.5   \n",
       "4               Y             0          121500.0    513000.0      21865.5   \n",
       "\n",
       "   AMT_GOODS_PRICE NAME_TYPE_SUITE NAME_INCOME_TYPE  \\\n",
       "0         351000.0   Unaccompanied          Working   \n",
       "1        1129500.0          Family    State servant   \n",
       "2         135000.0   Unaccompanied          Working   \n",
       "3         297000.0   Unaccompanied          Working   \n",
       "4         513000.0   Unaccompanied          Working   \n",
       "\n",
       "             NAME_EDUCATION_TYPE    NAME_FAMILY_STATUS  NAME_HOUSING_TYPE  \\\n",
       "0  Secondary / secondary special  Single / not married  House / apartment   \n",
       "1               Higher education               Married  House / apartment   \n",
       "2  Secondary / secondary special  Single / not married  House / apartment   \n",
       "3  Secondary / secondary special        Civil marriage  House / apartment   \n",
       "4  Secondary / secondary special  Single / not married  House / apartment   \n",
       "\n",
       "   REGION_POPULATION_RELATIVE  DAYS_BIRTH  DAYS_EMPLOYED  DAYS_REGISTRATION  \\\n",
       "0                    0.018801       -9461           -637            -3648.0   \n",
       "1                    0.003541      -16765          -1188            -1186.0   \n",
       "2                    0.010032      -19046           -225            -4260.0   \n",
       "3                    0.008019      -19005          -3039            -9833.0   \n",
       "4                    0.028663      -19932          -3038            -4311.0   \n",
       "\n",
       "   DAYS_ID_PUBLISH  OWN_CAR_AGE  FLAG_MOBIL  FLAG_EMP_PHONE  FLAG_WORK_PHONE  \\\n",
       "0            -2120          NaN           1               1                0   \n",
       "1             -291          NaN           1               1                0   \n",
       "2            -2531         26.0           1               1                1   \n",
       "3            -2437          NaN           1               1                0   \n",
       "4            -3458          NaN           1               1                0   \n",
       "\n",
       "   FLAG_CONT_MOBILE  FLAG_PHONE  FLAG_EMAIL OCCUPATION_TYPE  CNT_FAM_MEMBERS  \\\n",
       "0                 1           1           0        Laborers              1.0   \n",
       "1                 1           1           0      Core staff              2.0   \n",
       "2                 1           1           0        Laborers              1.0   \n",
       "3                 1           0           0        Laborers              2.0   \n",
       "4                 1           0           0      Core staff              1.0   \n",
       "\n",
       "   REGION_RATING_CLIENT  REGION_RATING_CLIENT_W_CITY  \\\n",
       "0                     2                            2   \n",
       "1                     1                            1   \n",
       "2                     2                            2   \n",
       "3                     2                            2   \n",
       "4                     2                            2   \n",
       "\n",
       "  WEEKDAY_APPR_PROCESS_START  HOUR_APPR_PROCESS_START  \\\n",
       "0                  WEDNESDAY                       10   \n",
       "1                     MONDAY                       11   \n",
       "2                     MONDAY                        9   \n",
       "3                  WEDNESDAY                       17   \n",
       "4                   THURSDAY                       11   \n",
       "\n",
       "   REG_REGION_NOT_LIVE_REGION  REG_REGION_NOT_WORK_REGION  \\\n",
       "0                           0                           0   \n",
       "1                           0                           0   \n",
       "2                           0                           0   \n",
       "3                           0                           0   \n",
       "4                           0                           0   \n",
       "\n",
       "   LIVE_REGION_NOT_WORK_REGION  REG_CITY_NOT_LIVE_CITY  \\\n",
       "0                            0                       0   \n",
       "1                            0                       0   \n",
       "2                            0                       0   \n",
       "3                            0                       0   \n",
       "4                            0                       0   \n",
       "\n",
       "   REG_CITY_NOT_WORK_CITY  LIVE_CITY_NOT_WORK_CITY       ORGANIZATION_TYPE  \\\n",
       "0                       0                        0  Business Entity Type 3   \n",
       "1                       0                        0                  School   \n",
       "2                       0                        0              Government   \n",
       "3                       0                        0  Business Entity Type 3   \n",
       "4                       1                        1                Religion   \n",
       "\n",
       "   EXT_SOURCE_1  EXT_SOURCE_2  EXT_SOURCE_3  APARTMENTS_AVG  BASEMENTAREA_AVG  \\\n",
       "0      0.083037      0.262949      0.139376          0.0247            0.0369   \n",
       "1      0.311267      0.622246           NaN          0.0959            0.0529   \n",
       "2           NaN      0.555912      0.729567             NaN               NaN   \n",
       "3           NaN      0.650442           NaN             NaN               NaN   \n",
       "4           NaN      0.322738           NaN             NaN               NaN   \n",
       "\n",
       "   YEARS_BEGINEXPLUATATION_AVG  YEARS_BUILD_AVG  COMMONAREA_AVG  \\\n",
       "0                       0.9722           0.6192          0.0143   \n",
       "1                       0.9851           0.7960          0.0605   \n",
       "2                          NaN              NaN             NaN   \n",
       "3                          NaN              NaN             NaN   \n",
       "4                          NaN              NaN             NaN   \n",
       "\n",
       "   ELEVATORS_AVG  ENTRANCES_AVG  FLOORSMAX_AVG  FLOORSMIN_AVG  LANDAREA_AVG  \\\n",
       "0           0.00         0.0690         0.0833         0.1250        0.0369   \n",
       "1           0.08         0.0345         0.2917         0.3333        0.0130   \n",
       "2            NaN            NaN            NaN            NaN           NaN   \n",
       "3            NaN            NaN            NaN            NaN           NaN   \n",
       "4            NaN            NaN            NaN            NaN           NaN   \n",
       "\n",
       "   LIVINGAPARTMENTS_AVG  LIVINGAREA_AVG  NONLIVINGAPARTMENTS_AVG  \\\n",
       "0                0.0202          0.0190                   0.0000   \n",
       "1                0.0773          0.0549                   0.0039   \n",
       "2                   NaN             NaN                      NaN   \n",
       "3                   NaN             NaN                      NaN   \n",
       "4                   NaN             NaN                      NaN   \n",
       "\n",
       "   NONLIVINGAREA_AVG  APARTMENTS_MODE  BASEMENTAREA_MODE  \\\n",
       "0             0.0000           0.0252             0.0383   \n",
       "1             0.0098           0.0924             0.0538   \n",
       "2                NaN              NaN                NaN   \n",
       "3                NaN              NaN                NaN   \n",
       "4                NaN              NaN                NaN   \n",
       "\n",
       "   YEARS_BEGINEXPLUATATION_MODE  YEARS_BUILD_MODE  COMMONAREA_MODE  \\\n",
       "0                        0.9722            0.6341           0.0144   \n",
       "1                        0.9851            0.8040           0.0497   \n",
       "2                           NaN               NaN              NaN   \n",
       "3                           NaN               NaN              NaN   \n",
       "4                           NaN               NaN              NaN   \n",
       "\n",
       "   ELEVATORS_MODE  ENTRANCES_MODE  FLOORSMAX_MODE  FLOORSMIN_MODE  \\\n",
       "0          0.0000          0.0690          0.0833          0.1250   \n",
       "1          0.0806          0.0345          0.2917          0.3333   \n",
       "2             NaN             NaN             NaN             NaN   \n",
       "3             NaN             NaN             NaN             NaN   \n",
       "4             NaN             NaN             NaN             NaN   \n",
       "\n",
       "   LANDAREA_MODE  LIVINGAPARTMENTS_MODE  LIVINGAREA_MODE  \\\n",
       "0         0.0377                  0.022           0.0198   \n",
       "1         0.0128                  0.079           0.0554   \n",
       "2            NaN                    NaN              NaN   \n",
       "3            NaN                    NaN              NaN   \n",
       "4            NaN                    NaN              NaN   \n",
       "\n",
       "   NONLIVINGAPARTMENTS_MODE  NONLIVINGAREA_MODE  APARTMENTS_MEDI  \\\n",
       "0                       0.0                 0.0           0.0250   \n",
       "1                       0.0                 0.0           0.0968   \n",
       "2                       NaN                 NaN              NaN   \n",
       "3                       NaN                 NaN              NaN   \n",
       "4                       NaN                 NaN              NaN   \n",
       "\n",
       "   BASEMENTAREA_MEDI  YEARS_BEGINEXPLUATATION_MEDI  YEARS_BUILD_MEDI  \\\n",
       "0             0.0369                        0.9722            0.6243   \n",
       "1             0.0529                        0.9851            0.7987   \n",
       "2                NaN                           NaN               NaN   \n",
       "3                NaN                           NaN               NaN   \n",
       "4                NaN                           NaN               NaN   \n",
       "\n",
       "   COMMONAREA_MEDI  ELEVATORS_MEDI  ENTRANCES_MEDI  FLOORSMAX_MEDI  \\\n",
       "0           0.0144            0.00          0.0690          0.0833   \n",
       "1           0.0608            0.08          0.0345          0.2917   \n",
       "2              NaN             NaN             NaN             NaN   \n",
       "3              NaN             NaN             NaN             NaN   \n",
       "4              NaN             NaN             NaN             NaN   \n",
       "\n",
       "   FLOORSMIN_MEDI  LANDAREA_MEDI  LIVINGAPARTMENTS_MEDI  LIVINGAREA_MEDI  \\\n",
       "0          0.1250         0.0375                 0.0205           0.0193   \n",
       "1          0.3333         0.0132                 0.0787           0.0558   \n",
       "2             NaN            NaN                    NaN              NaN   \n",
       "3             NaN            NaN                    NaN              NaN   \n",
       "4             NaN            NaN                    NaN              NaN   \n",
       "\n",
       "   NONLIVINGAPARTMENTS_MEDI  NONLIVINGAREA_MEDI FONDKAPREMONT_MODE  \\\n",
       "0                    0.0000                0.00   reg oper account   \n",
       "1                    0.0039                0.01   reg oper account   \n",
       "2                       NaN                 NaN                NaN   \n",
       "3                       NaN                 NaN                NaN   \n",
       "4                       NaN                 NaN                NaN   \n",
       "\n",
       "   HOUSETYPE_MODE  TOTALAREA_MODE WALLSMATERIAL_MODE EMERGENCYSTATE_MODE  \\\n",
       "0  block of flats          0.0149       Stone, brick                  No   \n",
       "1  block of flats          0.0714              Block                  No   \n",
       "2             NaN             NaN                NaN                 NaN   \n",
       "3             NaN             NaN                NaN                 NaN   \n",
       "4             NaN             NaN                NaN                 NaN   \n",
       "\n",
       "   OBS_30_CNT_SOCIAL_CIRCLE  DEF_30_CNT_SOCIAL_CIRCLE  \\\n",
       "0                       2.0                       2.0   \n",
       "1                       1.0                       0.0   \n",
       "2                       0.0                       0.0   \n",
       "3                       2.0                       0.0   \n",
       "4                       0.0                       0.0   \n",
       "\n",
       "   OBS_60_CNT_SOCIAL_CIRCLE  DEF_60_CNT_SOCIAL_CIRCLE  DAYS_LAST_PHONE_CHANGE  \\\n",
       "0                       2.0                       2.0                 -1134.0   \n",
       "1                       1.0                       0.0                  -828.0   \n",
       "2                       0.0                       0.0                  -815.0   \n",
       "3                       2.0                       0.0                  -617.0   \n",
       "4                       0.0                       0.0                 -1106.0   \n",
       "\n",
       "   FLAG_DOCUMENT_2  FLAG_DOCUMENT_3  FLAG_DOCUMENT_4  FLAG_DOCUMENT_5  \\\n",
       "0                0                1                0                0   \n",
       "1                0                1                0                0   \n",
       "2                0                0                0                0   \n",
       "3                0                1                0                0   \n",
       "4                0                0                0                0   \n",
       "\n",
       "   FLAG_DOCUMENT_6  FLAG_DOCUMENT_7  FLAG_DOCUMENT_8  FLAG_DOCUMENT_9  \\\n",
       "0                0                0                0                0   \n",
       "1                0                0                0                0   \n",
       "2                0                0                0                0   \n",
       "3                0                0                0                0   \n",
       "4                0                0                1                0   \n",
       "\n",
       "   FLAG_DOCUMENT_10  FLAG_DOCUMENT_11  FLAG_DOCUMENT_12  FLAG_DOCUMENT_13  \\\n",
       "0                 0                 0                 0                 0   \n",
       "1                 0                 0                 0                 0   \n",
       "2                 0                 0                 0                 0   \n",
       "3                 0                 0                 0                 0   \n",
       "4                 0                 0                 0                 0   \n",
       "\n",
       "   FLAG_DOCUMENT_14  FLAG_DOCUMENT_15  FLAG_DOCUMENT_16  FLAG_DOCUMENT_17  \\\n",
       "0                 0                 0                 0                 0   \n",
       "1                 0                 0                 0                 0   \n",
       "2                 0                 0                 0                 0   \n",
       "3                 0                 0                 0                 0   \n",
       "4                 0                 0                 0                 0   \n",
       "\n",
       "   FLAG_DOCUMENT_18  FLAG_DOCUMENT_19  FLAG_DOCUMENT_20  FLAG_DOCUMENT_21  \\\n",
       "0                 0                 0                 0                 0   \n",
       "1                 0                 0                 0                 0   \n",
       "2                 0                 0                 0                 0   \n",
       "3                 0                 0                 0                 0   \n",
       "4                 0                 0                 0                 0   \n",
       "\n",
       "   AMT_REQ_CREDIT_BUREAU_HOUR  AMT_REQ_CREDIT_BUREAU_DAY  \\\n",
       "0                         0.0                        0.0   \n",
       "1                         0.0                        0.0   \n",
       "2                         0.0                        0.0   \n",
       "3                         NaN                        NaN   \n",
       "4                         0.0                        0.0   \n",
       "\n",
       "   AMT_REQ_CREDIT_BUREAU_WEEK  AMT_REQ_CREDIT_BUREAU_MON  \\\n",
       "0                         0.0                        0.0   \n",
       "1                         0.0                        0.0   \n",
       "2                         0.0                        0.0   \n",
       "3                         NaN                        NaN   \n",
       "4                         0.0                        0.0   \n",
       "\n",
       "   AMT_REQ_CREDIT_BUREAU_QRT  AMT_REQ_CREDIT_BUREAU_YEAR  \n",
       "0                        0.0                         1.0  \n",
       "1                        0.0                         0.0  \n",
       "2                        0.0                         0.0  \n",
       "3                        NaN                         NaN  \n",
       "4                        0.0                         0.0  "
      ]
     },
     "execution_count": 3,
     "metadata": {},
     "output_type": "execute_result"
    }
   ],
   "source": [
    "application_dataset.head()"
   ]
  },
  {
   "cell_type": "code",
   "execution_count": 4,
   "metadata": {},
   "outputs": [
    {
     "data": {
      "text/html": [
       "<div>\n",
       "<style scoped>\n",
       "    .dataframe tbody tr th:only-of-type {\n",
       "        vertical-align: middle;\n",
       "    }\n",
       "\n",
       "    .dataframe tbody tr th {\n",
       "        vertical-align: top;\n",
       "    }\n",
       "\n",
       "    .dataframe thead th {\n",
       "        text-align: right;\n",
       "    }\n",
       "</style>\n",
       "<table border=\"1\" class=\"dataframe\">\n",
       "  <thead>\n",
       "    <tr style=\"text-align: right;\">\n",
       "      <th></th>\n",
       "      <th>SK_ID_CURR</th>\n",
       "      <th>TARGET</th>\n",
       "      <th>CNT_CHILDREN</th>\n",
       "      <th>AMT_INCOME_TOTAL</th>\n",
       "      <th>AMT_CREDIT</th>\n",
       "      <th>AMT_ANNUITY</th>\n",
       "      <th>AMT_GOODS_PRICE</th>\n",
       "      <th>REGION_POPULATION_RELATIVE</th>\n",
       "      <th>DAYS_BIRTH</th>\n",
       "      <th>DAYS_EMPLOYED</th>\n",
       "      <th>DAYS_REGISTRATION</th>\n",
       "      <th>DAYS_ID_PUBLISH</th>\n",
       "      <th>OWN_CAR_AGE</th>\n",
       "      <th>FLAG_MOBIL</th>\n",
       "      <th>FLAG_EMP_PHONE</th>\n",
       "      <th>FLAG_WORK_PHONE</th>\n",
       "      <th>FLAG_CONT_MOBILE</th>\n",
       "      <th>FLAG_PHONE</th>\n",
       "      <th>FLAG_EMAIL</th>\n",
       "      <th>CNT_FAM_MEMBERS</th>\n",
       "      <th>REGION_RATING_CLIENT</th>\n",
       "      <th>REGION_RATING_CLIENT_W_CITY</th>\n",
       "      <th>HOUR_APPR_PROCESS_START</th>\n",
       "      <th>REG_REGION_NOT_LIVE_REGION</th>\n",
       "      <th>REG_REGION_NOT_WORK_REGION</th>\n",
       "      <th>LIVE_REGION_NOT_WORK_REGION</th>\n",
       "      <th>REG_CITY_NOT_LIVE_CITY</th>\n",
       "      <th>REG_CITY_NOT_WORK_CITY</th>\n",
       "      <th>LIVE_CITY_NOT_WORK_CITY</th>\n",
       "      <th>EXT_SOURCE_1</th>\n",
       "      <th>EXT_SOURCE_2</th>\n",
       "      <th>EXT_SOURCE_3</th>\n",
       "      <th>APARTMENTS_AVG</th>\n",
       "      <th>BASEMENTAREA_AVG</th>\n",
       "      <th>YEARS_BEGINEXPLUATATION_AVG</th>\n",
       "      <th>YEARS_BUILD_AVG</th>\n",
       "      <th>COMMONAREA_AVG</th>\n",
       "      <th>ELEVATORS_AVG</th>\n",
       "      <th>ENTRANCES_AVG</th>\n",
       "      <th>FLOORSMAX_AVG</th>\n",
       "      <th>FLOORSMIN_AVG</th>\n",
       "      <th>LANDAREA_AVG</th>\n",
       "      <th>LIVINGAPARTMENTS_AVG</th>\n",
       "      <th>LIVINGAREA_AVG</th>\n",
       "      <th>NONLIVINGAPARTMENTS_AVG</th>\n",
       "      <th>NONLIVINGAREA_AVG</th>\n",
       "      <th>APARTMENTS_MODE</th>\n",
       "      <th>BASEMENTAREA_MODE</th>\n",
       "      <th>YEARS_BEGINEXPLUATATION_MODE</th>\n",
       "      <th>YEARS_BUILD_MODE</th>\n",
       "      <th>COMMONAREA_MODE</th>\n",
       "      <th>ELEVATORS_MODE</th>\n",
       "      <th>ENTRANCES_MODE</th>\n",
       "      <th>FLOORSMAX_MODE</th>\n",
       "      <th>FLOORSMIN_MODE</th>\n",
       "      <th>LANDAREA_MODE</th>\n",
       "      <th>LIVINGAPARTMENTS_MODE</th>\n",
       "      <th>LIVINGAREA_MODE</th>\n",
       "      <th>NONLIVINGAPARTMENTS_MODE</th>\n",
       "      <th>NONLIVINGAREA_MODE</th>\n",
       "      <th>APARTMENTS_MEDI</th>\n",
       "      <th>BASEMENTAREA_MEDI</th>\n",
       "      <th>YEARS_BEGINEXPLUATATION_MEDI</th>\n",
       "      <th>YEARS_BUILD_MEDI</th>\n",
       "      <th>COMMONAREA_MEDI</th>\n",
       "      <th>ELEVATORS_MEDI</th>\n",
       "      <th>ENTRANCES_MEDI</th>\n",
       "      <th>FLOORSMAX_MEDI</th>\n",
       "      <th>FLOORSMIN_MEDI</th>\n",
       "      <th>LANDAREA_MEDI</th>\n",
       "      <th>LIVINGAPARTMENTS_MEDI</th>\n",
       "      <th>LIVINGAREA_MEDI</th>\n",
       "      <th>NONLIVINGAPARTMENTS_MEDI</th>\n",
       "      <th>NONLIVINGAREA_MEDI</th>\n",
       "      <th>TOTALAREA_MODE</th>\n",
       "      <th>OBS_30_CNT_SOCIAL_CIRCLE</th>\n",
       "      <th>DEF_30_CNT_SOCIAL_CIRCLE</th>\n",
       "      <th>OBS_60_CNT_SOCIAL_CIRCLE</th>\n",
       "      <th>DEF_60_CNT_SOCIAL_CIRCLE</th>\n",
       "      <th>DAYS_LAST_PHONE_CHANGE</th>\n",
       "      <th>FLAG_DOCUMENT_2</th>\n",
       "      <th>FLAG_DOCUMENT_3</th>\n",
       "      <th>FLAG_DOCUMENT_4</th>\n",
       "      <th>FLAG_DOCUMENT_5</th>\n",
       "      <th>FLAG_DOCUMENT_6</th>\n",
       "      <th>FLAG_DOCUMENT_7</th>\n",
       "      <th>FLAG_DOCUMENT_8</th>\n",
       "      <th>FLAG_DOCUMENT_9</th>\n",
       "      <th>FLAG_DOCUMENT_10</th>\n",
       "      <th>FLAG_DOCUMENT_11</th>\n",
       "      <th>FLAG_DOCUMENT_12</th>\n",
       "      <th>FLAG_DOCUMENT_13</th>\n",
       "      <th>FLAG_DOCUMENT_14</th>\n",
       "      <th>FLAG_DOCUMENT_15</th>\n",
       "      <th>FLAG_DOCUMENT_16</th>\n",
       "      <th>FLAG_DOCUMENT_17</th>\n",
       "      <th>FLAG_DOCUMENT_18</th>\n",
       "      <th>FLAG_DOCUMENT_19</th>\n",
       "      <th>FLAG_DOCUMENT_20</th>\n",
       "      <th>FLAG_DOCUMENT_21</th>\n",
       "      <th>AMT_REQ_CREDIT_BUREAU_HOUR</th>\n",
       "      <th>AMT_REQ_CREDIT_BUREAU_DAY</th>\n",
       "      <th>AMT_REQ_CREDIT_BUREAU_WEEK</th>\n",
       "      <th>AMT_REQ_CREDIT_BUREAU_MON</th>\n",
       "      <th>AMT_REQ_CREDIT_BUREAU_QRT</th>\n",
       "      <th>AMT_REQ_CREDIT_BUREAU_YEAR</th>\n",
       "    </tr>\n",
       "  </thead>\n",
       "  <tbody>\n",
       "    <tr>\n",
       "      <th>count</th>\n",
       "      <td>307511.000000</td>\n",
       "      <td>307511.000000</td>\n",
       "      <td>307511.000000</td>\n",
       "      <td>3.075110e+05</td>\n",
       "      <td>3.075110e+05</td>\n",
       "      <td>307499.000000</td>\n",
       "      <td>3.072330e+05</td>\n",
       "      <td>307511.000000</td>\n",
       "      <td>307511.000000</td>\n",
       "      <td>307511.000000</td>\n",
       "      <td>307511.000000</td>\n",
       "      <td>307511.000000</td>\n",
       "      <td>104582.000000</td>\n",
       "      <td>307511.000000</td>\n",
       "      <td>307511.000000</td>\n",
       "      <td>307511.000000</td>\n",
       "      <td>307511.000000</td>\n",
       "      <td>307511.000000</td>\n",
       "      <td>307511.000000</td>\n",
       "      <td>307509.000000</td>\n",
       "      <td>307511.000000</td>\n",
       "      <td>307511.000000</td>\n",
       "      <td>307511.000000</td>\n",
       "      <td>307511.000000</td>\n",
       "      <td>307511.000000</td>\n",
       "      <td>307511.000000</td>\n",
       "      <td>307511.000000</td>\n",
       "      <td>307511.000000</td>\n",
       "      <td>307511.000000</td>\n",
       "      <td>134133.000000</td>\n",
       "      <td>3.068510e+05</td>\n",
       "      <td>246546.000000</td>\n",
       "      <td>151450.00000</td>\n",
       "      <td>127568.000000</td>\n",
       "      <td>157504.000000</td>\n",
       "      <td>103023.000000</td>\n",
       "      <td>92646.000000</td>\n",
       "      <td>143620.000000</td>\n",
       "      <td>152683.000000</td>\n",
       "      <td>154491.000000</td>\n",
       "      <td>98869.000000</td>\n",
       "      <td>124921.000000</td>\n",
       "      <td>97312.000000</td>\n",
       "      <td>153161.000000</td>\n",
       "      <td>93997.000000</td>\n",
       "      <td>137829.000000</td>\n",
       "      <td>151450.000000</td>\n",
       "      <td>127568.000000</td>\n",
       "      <td>157504.000000</td>\n",
       "      <td>103023.000000</td>\n",
       "      <td>92646.000000</td>\n",
       "      <td>143620.000000</td>\n",
       "      <td>152683.000000</td>\n",
       "      <td>154491.000000</td>\n",
       "      <td>98869.000000</td>\n",
       "      <td>124921.000000</td>\n",
       "      <td>97312.000000</td>\n",
       "      <td>153161.000000</td>\n",
       "      <td>93997.000000</td>\n",
       "      <td>137829.000000</td>\n",
       "      <td>151450.000000</td>\n",
       "      <td>127568.000000</td>\n",
       "      <td>157504.000000</td>\n",
       "      <td>103023.000000</td>\n",
       "      <td>92646.000000</td>\n",
       "      <td>143620.000000</td>\n",
       "      <td>152683.000000</td>\n",
       "      <td>154491.000000</td>\n",
       "      <td>98869.000000</td>\n",
       "      <td>124921.000000</td>\n",
       "      <td>97312.000000</td>\n",
       "      <td>153161.000000</td>\n",
       "      <td>93997.000000</td>\n",
       "      <td>137829.000000</td>\n",
       "      <td>159080.000000</td>\n",
       "      <td>306490.000000</td>\n",
       "      <td>306490.000000</td>\n",
       "      <td>306490.000000</td>\n",
       "      <td>306490.000000</td>\n",
       "      <td>307510.000000</td>\n",
       "      <td>307511.000000</td>\n",
       "      <td>307511.000000</td>\n",
       "      <td>307511.000000</td>\n",
       "      <td>307511.000000</td>\n",
       "      <td>307511.000000</td>\n",
       "      <td>307511.000000</td>\n",
       "      <td>307511.000000</td>\n",
       "      <td>307511.000000</td>\n",
       "      <td>307511.000000</td>\n",
       "      <td>307511.000000</td>\n",
       "      <td>307511.000000</td>\n",
       "      <td>307511.000000</td>\n",
       "      <td>307511.000000</td>\n",
       "      <td>307511.00000</td>\n",
       "      <td>307511.000000</td>\n",
       "      <td>307511.000000</td>\n",
       "      <td>307511.000000</td>\n",
       "      <td>307511.000000</td>\n",
       "      <td>307511.000000</td>\n",
       "      <td>307511.000000</td>\n",
       "      <td>265992.000000</td>\n",
       "      <td>265992.000000</td>\n",
       "      <td>265992.000000</td>\n",
       "      <td>265992.000000</td>\n",
       "      <td>265992.000000</td>\n",
       "      <td>265992.000000</td>\n",
       "    </tr>\n",
       "    <tr>\n",
       "      <th>mean</th>\n",
       "      <td>278180.518577</td>\n",
       "      <td>0.080729</td>\n",
       "      <td>0.417052</td>\n",
       "      <td>1.687979e+05</td>\n",
       "      <td>5.990260e+05</td>\n",
       "      <td>27108.573909</td>\n",
       "      <td>5.383962e+05</td>\n",
       "      <td>0.020868</td>\n",
       "      <td>-16036.995067</td>\n",
       "      <td>63815.045904</td>\n",
       "      <td>-4986.120328</td>\n",
       "      <td>-2994.202373</td>\n",
       "      <td>12.061091</td>\n",
       "      <td>0.999997</td>\n",
       "      <td>0.819889</td>\n",
       "      <td>0.199368</td>\n",
       "      <td>0.998133</td>\n",
       "      <td>0.281066</td>\n",
       "      <td>0.056720</td>\n",
       "      <td>2.152665</td>\n",
       "      <td>2.052463</td>\n",
       "      <td>2.031521</td>\n",
       "      <td>12.063419</td>\n",
       "      <td>0.015144</td>\n",
       "      <td>0.050769</td>\n",
       "      <td>0.040659</td>\n",
       "      <td>0.078173</td>\n",
       "      <td>0.230454</td>\n",
       "      <td>0.179555</td>\n",
       "      <td>0.502130</td>\n",
       "      <td>5.143927e-01</td>\n",
       "      <td>0.510853</td>\n",
       "      <td>0.11744</td>\n",
       "      <td>0.088442</td>\n",
       "      <td>0.977735</td>\n",
       "      <td>0.752471</td>\n",
       "      <td>0.044621</td>\n",
       "      <td>0.078942</td>\n",
       "      <td>0.149725</td>\n",
       "      <td>0.226282</td>\n",
       "      <td>0.231894</td>\n",
       "      <td>0.066333</td>\n",
       "      <td>0.100775</td>\n",
       "      <td>0.107399</td>\n",
       "      <td>0.008809</td>\n",
       "      <td>0.028358</td>\n",
       "      <td>0.114231</td>\n",
       "      <td>0.087543</td>\n",
       "      <td>0.977065</td>\n",
       "      <td>0.759637</td>\n",
       "      <td>0.042553</td>\n",
       "      <td>0.074490</td>\n",
       "      <td>0.145193</td>\n",
       "      <td>0.222315</td>\n",
       "      <td>0.228058</td>\n",
       "      <td>0.064958</td>\n",
       "      <td>0.105645</td>\n",
       "      <td>0.105975</td>\n",
       "      <td>0.008076</td>\n",
       "      <td>0.027022</td>\n",
       "      <td>0.117850</td>\n",
       "      <td>0.087955</td>\n",
       "      <td>0.977752</td>\n",
       "      <td>0.755746</td>\n",
       "      <td>0.044595</td>\n",
       "      <td>0.078078</td>\n",
       "      <td>0.149213</td>\n",
       "      <td>0.225897</td>\n",
       "      <td>0.231625</td>\n",
       "      <td>0.067169</td>\n",
       "      <td>0.101954</td>\n",
       "      <td>0.108607</td>\n",
       "      <td>0.008651</td>\n",
       "      <td>0.028236</td>\n",
       "      <td>0.102547</td>\n",
       "      <td>1.422245</td>\n",
       "      <td>0.143421</td>\n",
       "      <td>1.405292</td>\n",
       "      <td>0.100049</td>\n",
       "      <td>-962.858788</td>\n",
       "      <td>0.000042</td>\n",
       "      <td>0.710023</td>\n",
       "      <td>0.000081</td>\n",
       "      <td>0.015115</td>\n",
       "      <td>0.088055</td>\n",
       "      <td>0.000192</td>\n",
       "      <td>0.081376</td>\n",
       "      <td>0.003896</td>\n",
       "      <td>0.000023</td>\n",
       "      <td>0.003912</td>\n",
       "      <td>0.000007</td>\n",
       "      <td>0.003525</td>\n",
       "      <td>0.002936</td>\n",
       "      <td>0.00121</td>\n",
       "      <td>0.009928</td>\n",
       "      <td>0.000267</td>\n",
       "      <td>0.008130</td>\n",
       "      <td>0.000595</td>\n",
       "      <td>0.000507</td>\n",
       "      <td>0.000335</td>\n",
       "      <td>0.006402</td>\n",
       "      <td>0.007000</td>\n",
       "      <td>0.034362</td>\n",
       "      <td>0.267395</td>\n",
       "      <td>0.265474</td>\n",
       "      <td>1.899974</td>\n",
       "    </tr>\n",
       "    <tr>\n",
       "      <th>std</th>\n",
       "      <td>102790.175348</td>\n",
       "      <td>0.272419</td>\n",
       "      <td>0.722121</td>\n",
       "      <td>2.371231e+05</td>\n",
       "      <td>4.024908e+05</td>\n",
       "      <td>14493.737315</td>\n",
       "      <td>3.694465e+05</td>\n",
       "      <td>0.013831</td>\n",
       "      <td>4363.988632</td>\n",
       "      <td>141275.766519</td>\n",
       "      <td>3522.886321</td>\n",
       "      <td>1509.450419</td>\n",
       "      <td>11.944812</td>\n",
       "      <td>0.001803</td>\n",
       "      <td>0.384280</td>\n",
       "      <td>0.399526</td>\n",
       "      <td>0.043164</td>\n",
       "      <td>0.449521</td>\n",
       "      <td>0.231307</td>\n",
       "      <td>0.910682</td>\n",
       "      <td>0.509034</td>\n",
       "      <td>0.502737</td>\n",
       "      <td>3.265832</td>\n",
       "      <td>0.122126</td>\n",
       "      <td>0.219526</td>\n",
       "      <td>0.197499</td>\n",
       "      <td>0.268444</td>\n",
       "      <td>0.421124</td>\n",
       "      <td>0.383817</td>\n",
       "      <td>0.211062</td>\n",
       "      <td>1.910602e-01</td>\n",
       "      <td>0.194844</td>\n",
       "      <td>0.10824</td>\n",
       "      <td>0.082438</td>\n",
       "      <td>0.059223</td>\n",
       "      <td>0.113280</td>\n",
       "      <td>0.076036</td>\n",
       "      <td>0.134576</td>\n",
       "      <td>0.100049</td>\n",
       "      <td>0.144641</td>\n",
       "      <td>0.161380</td>\n",
       "      <td>0.081184</td>\n",
       "      <td>0.092576</td>\n",
       "      <td>0.110565</td>\n",
       "      <td>0.047732</td>\n",
       "      <td>0.069523</td>\n",
       "      <td>0.107936</td>\n",
       "      <td>0.084307</td>\n",
       "      <td>0.064575</td>\n",
       "      <td>0.110111</td>\n",
       "      <td>0.074445</td>\n",
       "      <td>0.132256</td>\n",
       "      <td>0.100977</td>\n",
       "      <td>0.143709</td>\n",
       "      <td>0.161160</td>\n",
       "      <td>0.081750</td>\n",
       "      <td>0.097880</td>\n",
       "      <td>0.111845</td>\n",
       "      <td>0.046276</td>\n",
       "      <td>0.070254</td>\n",
       "      <td>0.109076</td>\n",
       "      <td>0.082179</td>\n",
       "      <td>0.059897</td>\n",
       "      <td>0.112066</td>\n",
       "      <td>0.076144</td>\n",
       "      <td>0.134467</td>\n",
       "      <td>0.100368</td>\n",
       "      <td>0.145067</td>\n",
       "      <td>0.161934</td>\n",
       "      <td>0.082167</td>\n",
       "      <td>0.093642</td>\n",
       "      <td>0.112260</td>\n",
       "      <td>0.047415</td>\n",
       "      <td>0.070166</td>\n",
       "      <td>0.107462</td>\n",
       "      <td>2.400989</td>\n",
       "      <td>0.446698</td>\n",
       "      <td>2.379803</td>\n",
       "      <td>0.362291</td>\n",
       "      <td>826.808487</td>\n",
       "      <td>0.006502</td>\n",
       "      <td>0.453752</td>\n",
       "      <td>0.009016</td>\n",
       "      <td>0.122010</td>\n",
       "      <td>0.283376</td>\n",
       "      <td>0.013850</td>\n",
       "      <td>0.273412</td>\n",
       "      <td>0.062295</td>\n",
       "      <td>0.004771</td>\n",
       "      <td>0.062424</td>\n",
       "      <td>0.002550</td>\n",
       "      <td>0.059268</td>\n",
       "      <td>0.054110</td>\n",
       "      <td>0.03476</td>\n",
       "      <td>0.099144</td>\n",
       "      <td>0.016327</td>\n",
       "      <td>0.089798</td>\n",
       "      <td>0.024387</td>\n",
       "      <td>0.022518</td>\n",
       "      <td>0.018299</td>\n",
       "      <td>0.083849</td>\n",
       "      <td>0.110757</td>\n",
       "      <td>0.204685</td>\n",
       "      <td>0.916002</td>\n",
       "      <td>0.794056</td>\n",
       "      <td>1.869295</td>\n",
       "    </tr>\n",
       "    <tr>\n",
       "      <th>min</th>\n",
       "      <td>100002.000000</td>\n",
       "      <td>0.000000</td>\n",
       "      <td>0.000000</td>\n",
       "      <td>2.565000e+04</td>\n",
       "      <td>4.500000e+04</td>\n",
       "      <td>1615.500000</td>\n",
       "      <td>4.050000e+04</td>\n",
       "      <td>0.000290</td>\n",
       "      <td>-25229.000000</td>\n",
       "      <td>-17912.000000</td>\n",
       "      <td>-24672.000000</td>\n",
       "      <td>-7197.000000</td>\n",
       "      <td>0.000000</td>\n",
       "      <td>0.000000</td>\n",
       "      <td>0.000000</td>\n",
       "      <td>0.000000</td>\n",
       "      <td>0.000000</td>\n",
       "      <td>0.000000</td>\n",
       "      <td>0.000000</td>\n",
       "      <td>1.000000</td>\n",
       "      <td>1.000000</td>\n",
       "      <td>1.000000</td>\n",
       "      <td>0.000000</td>\n",
       "      <td>0.000000</td>\n",
       "      <td>0.000000</td>\n",
       "      <td>0.000000</td>\n",
       "      <td>0.000000</td>\n",
       "      <td>0.000000</td>\n",
       "      <td>0.000000</td>\n",
       "      <td>0.014568</td>\n",
       "      <td>8.173617e-08</td>\n",
       "      <td>0.000527</td>\n",
       "      <td>0.00000</td>\n",
       "      <td>0.000000</td>\n",
       "      <td>0.000000</td>\n",
       "      <td>0.000000</td>\n",
       "      <td>0.000000</td>\n",
       "      <td>0.000000</td>\n",
       "      <td>0.000000</td>\n",
       "      <td>0.000000</td>\n",
       "      <td>0.000000</td>\n",
       "      <td>0.000000</td>\n",
       "      <td>0.000000</td>\n",
       "      <td>0.000000</td>\n",
       "      <td>0.000000</td>\n",
       "      <td>0.000000</td>\n",
       "      <td>0.000000</td>\n",
       "      <td>0.000000</td>\n",
       "      <td>0.000000</td>\n",
       "      <td>0.000000</td>\n",
       "      <td>0.000000</td>\n",
       "      <td>0.000000</td>\n",
       "      <td>0.000000</td>\n",
       "      <td>0.000000</td>\n",
       "      <td>0.000000</td>\n",
       "      <td>0.000000</td>\n",
       "      <td>0.000000</td>\n",
       "      <td>0.000000</td>\n",
       "      <td>0.000000</td>\n",
       "      <td>0.000000</td>\n",
       "      <td>0.000000</td>\n",
       "      <td>0.000000</td>\n",
       "      <td>0.000000</td>\n",
       "      <td>0.000000</td>\n",
       "      <td>0.000000</td>\n",
       "      <td>0.000000</td>\n",
       "      <td>0.000000</td>\n",
       "      <td>0.000000</td>\n",
       "      <td>0.000000</td>\n",
       "      <td>0.000000</td>\n",
       "      <td>0.000000</td>\n",
       "      <td>0.000000</td>\n",
       "      <td>0.000000</td>\n",
       "      <td>0.000000</td>\n",
       "      <td>0.000000</td>\n",
       "      <td>0.000000</td>\n",
       "      <td>0.000000</td>\n",
       "      <td>0.000000</td>\n",
       "      <td>0.000000</td>\n",
       "      <td>-4292.000000</td>\n",
       "      <td>0.000000</td>\n",
       "      <td>0.000000</td>\n",
       "      <td>0.000000</td>\n",
       "      <td>0.000000</td>\n",
       "      <td>0.000000</td>\n",
       "      <td>0.000000</td>\n",
       "      <td>0.000000</td>\n",
       "      <td>0.000000</td>\n",
       "      <td>0.000000</td>\n",
       "      <td>0.000000</td>\n",
       "      <td>0.000000</td>\n",
       "      <td>0.000000</td>\n",
       "      <td>0.000000</td>\n",
       "      <td>0.00000</td>\n",
       "      <td>0.000000</td>\n",
       "      <td>0.000000</td>\n",
       "      <td>0.000000</td>\n",
       "      <td>0.000000</td>\n",
       "      <td>0.000000</td>\n",
       "      <td>0.000000</td>\n",
       "      <td>0.000000</td>\n",
       "      <td>0.000000</td>\n",
       "      <td>0.000000</td>\n",
       "      <td>0.000000</td>\n",
       "      <td>0.000000</td>\n",
       "      <td>0.000000</td>\n",
       "    </tr>\n",
       "    <tr>\n",
       "      <th>25%</th>\n",
       "      <td>189145.500000</td>\n",
       "      <td>0.000000</td>\n",
       "      <td>0.000000</td>\n",
       "      <td>1.125000e+05</td>\n",
       "      <td>2.700000e+05</td>\n",
       "      <td>16524.000000</td>\n",
       "      <td>2.385000e+05</td>\n",
       "      <td>0.010006</td>\n",
       "      <td>-19682.000000</td>\n",
       "      <td>-2760.000000</td>\n",
       "      <td>-7479.500000</td>\n",
       "      <td>-4299.000000</td>\n",
       "      <td>5.000000</td>\n",
       "      <td>1.000000</td>\n",
       "      <td>1.000000</td>\n",
       "      <td>0.000000</td>\n",
       "      <td>1.000000</td>\n",
       "      <td>0.000000</td>\n",
       "      <td>0.000000</td>\n",
       "      <td>2.000000</td>\n",
       "      <td>2.000000</td>\n",
       "      <td>2.000000</td>\n",
       "      <td>10.000000</td>\n",
       "      <td>0.000000</td>\n",
       "      <td>0.000000</td>\n",
       "      <td>0.000000</td>\n",
       "      <td>0.000000</td>\n",
       "      <td>0.000000</td>\n",
       "      <td>0.000000</td>\n",
       "      <td>0.334007</td>\n",
       "      <td>3.924574e-01</td>\n",
       "      <td>0.370650</td>\n",
       "      <td>0.05770</td>\n",
       "      <td>0.044200</td>\n",
       "      <td>0.976700</td>\n",
       "      <td>0.687200</td>\n",
       "      <td>0.007800</td>\n",
       "      <td>0.000000</td>\n",
       "      <td>0.069000</td>\n",
       "      <td>0.166700</td>\n",
       "      <td>0.083300</td>\n",
       "      <td>0.018700</td>\n",
       "      <td>0.050400</td>\n",
       "      <td>0.045300</td>\n",
       "      <td>0.000000</td>\n",
       "      <td>0.000000</td>\n",
       "      <td>0.052500</td>\n",
       "      <td>0.040700</td>\n",
       "      <td>0.976700</td>\n",
       "      <td>0.699400</td>\n",
       "      <td>0.007200</td>\n",
       "      <td>0.000000</td>\n",
       "      <td>0.069000</td>\n",
       "      <td>0.166700</td>\n",
       "      <td>0.083300</td>\n",
       "      <td>0.016600</td>\n",
       "      <td>0.054200</td>\n",
       "      <td>0.042700</td>\n",
       "      <td>0.000000</td>\n",
       "      <td>0.000000</td>\n",
       "      <td>0.058300</td>\n",
       "      <td>0.043700</td>\n",
       "      <td>0.976700</td>\n",
       "      <td>0.691400</td>\n",
       "      <td>0.007900</td>\n",
       "      <td>0.000000</td>\n",
       "      <td>0.069000</td>\n",
       "      <td>0.166700</td>\n",
       "      <td>0.083300</td>\n",
       "      <td>0.018700</td>\n",
       "      <td>0.051300</td>\n",
       "      <td>0.045700</td>\n",
       "      <td>0.000000</td>\n",
       "      <td>0.000000</td>\n",
       "      <td>0.041200</td>\n",
       "      <td>0.000000</td>\n",
       "      <td>0.000000</td>\n",
       "      <td>0.000000</td>\n",
       "      <td>0.000000</td>\n",
       "      <td>-1570.000000</td>\n",
       "      <td>0.000000</td>\n",
       "      <td>0.000000</td>\n",
       "      <td>0.000000</td>\n",
       "      <td>0.000000</td>\n",
       "      <td>0.000000</td>\n",
       "      <td>0.000000</td>\n",
       "      <td>0.000000</td>\n",
       "      <td>0.000000</td>\n",
       "      <td>0.000000</td>\n",
       "      <td>0.000000</td>\n",
       "      <td>0.000000</td>\n",
       "      <td>0.000000</td>\n",
       "      <td>0.000000</td>\n",
       "      <td>0.00000</td>\n",
       "      <td>0.000000</td>\n",
       "      <td>0.000000</td>\n",
       "      <td>0.000000</td>\n",
       "      <td>0.000000</td>\n",
       "      <td>0.000000</td>\n",
       "      <td>0.000000</td>\n",
       "      <td>0.000000</td>\n",
       "      <td>0.000000</td>\n",
       "      <td>0.000000</td>\n",
       "      <td>0.000000</td>\n",
       "      <td>0.000000</td>\n",
       "      <td>0.000000</td>\n",
       "    </tr>\n",
       "    <tr>\n",
       "      <th>50%</th>\n",
       "      <td>278202.000000</td>\n",
       "      <td>0.000000</td>\n",
       "      <td>0.000000</td>\n",
       "      <td>1.471500e+05</td>\n",
       "      <td>5.135310e+05</td>\n",
       "      <td>24903.000000</td>\n",
       "      <td>4.500000e+05</td>\n",
       "      <td>0.018850</td>\n",
       "      <td>-15750.000000</td>\n",
       "      <td>-1213.000000</td>\n",
       "      <td>-4504.000000</td>\n",
       "      <td>-3254.000000</td>\n",
       "      <td>9.000000</td>\n",
       "      <td>1.000000</td>\n",
       "      <td>1.000000</td>\n",
       "      <td>0.000000</td>\n",
       "      <td>1.000000</td>\n",
       "      <td>0.000000</td>\n",
       "      <td>0.000000</td>\n",
       "      <td>2.000000</td>\n",
       "      <td>2.000000</td>\n",
       "      <td>2.000000</td>\n",
       "      <td>12.000000</td>\n",
       "      <td>0.000000</td>\n",
       "      <td>0.000000</td>\n",
       "      <td>0.000000</td>\n",
       "      <td>0.000000</td>\n",
       "      <td>0.000000</td>\n",
       "      <td>0.000000</td>\n",
       "      <td>0.505998</td>\n",
       "      <td>5.659614e-01</td>\n",
       "      <td>0.535276</td>\n",
       "      <td>0.08760</td>\n",
       "      <td>0.076300</td>\n",
       "      <td>0.981600</td>\n",
       "      <td>0.755200</td>\n",
       "      <td>0.021100</td>\n",
       "      <td>0.000000</td>\n",
       "      <td>0.137900</td>\n",
       "      <td>0.166700</td>\n",
       "      <td>0.208300</td>\n",
       "      <td>0.048100</td>\n",
       "      <td>0.075600</td>\n",
       "      <td>0.074500</td>\n",
       "      <td>0.000000</td>\n",
       "      <td>0.003600</td>\n",
       "      <td>0.084000</td>\n",
       "      <td>0.074600</td>\n",
       "      <td>0.981600</td>\n",
       "      <td>0.764800</td>\n",
       "      <td>0.019000</td>\n",
       "      <td>0.000000</td>\n",
       "      <td>0.137900</td>\n",
       "      <td>0.166700</td>\n",
       "      <td>0.208300</td>\n",
       "      <td>0.045800</td>\n",
       "      <td>0.077100</td>\n",
       "      <td>0.073100</td>\n",
       "      <td>0.000000</td>\n",
       "      <td>0.001100</td>\n",
       "      <td>0.086400</td>\n",
       "      <td>0.075800</td>\n",
       "      <td>0.981600</td>\n",
       "      <td>0.758500</td>\n",
       "      <td>0.020800</td>\n",
       "      <td>0.000000</td>\n",
       "      <td>0.137900</td>\n",
       "      <td>0.166700</td>\n",
       "      <td>0.208300</td>\n",
       "      <td>0.048700</td>\n",
       "      <td>0.076100</td>\n",
       "      <td>0.074900</td>\n",
       "      <td>0.000000</td>\n",
       "      <td>0.003100</td>\n",
       "      <td>0.068800</td>\n",
       "      <td>0.000000</td>\n",
       "      <td>0.000000</td>\n",
       "      <td>0.000000</td>\n",
       "      <td>0.000000</td>\n",
       "      <td>-757.000000</td>\n",
       "      <td>0.000000</td>\n",
       "      <td>1.000000</td>\n",
       "      <td>0.000000</td>\n",
       "      <td>0.000000</td>\n",
       "      <td>0.000000</td>\n",
       "      <td>0.000000</td>\n",
       "      <td>0.000000</td>\n",
       "      <td>0.000000</td>\n",
       "      <td>0.000000</td>\n",
       "      <td>0.000000</td>\n",
       "      <td>0.000000</td>\n",
       "      <td>0.000000</td>\n",
       "      <td>0.000000</td>\n",
       "      <td>0.00000</td>\n",
       "      <td>0.000000</td>\n",
       "      <td>0.000000</td>\n",
       "      <td>0.000000</td>\n",
       "      <td>0.000000</td>\n",
       "      <td>0.000000</td>\n",
       "      <td>0.000000</td>\n",
       "      <td>0.000000</td>\n",
       "      <td>0.000000</td>\n",
       "      <td>0.000000</td>\n",
       "      <td>0.000000</td>\n",
       "      <td>0.000000</td>\n",
       "      <td>1.000000</td>\n",
       "    </tr>\n",
       "    <tr>\n",
       "      <th>75%</th>\n",
       "      <td>367142.500000</td>\n",
       "      <td>0.000000</td>\n",
       "      <td>1.000000</td>\n",
       "      <td>2.025000e+05</td>\n",
       "      <td>8.086500e+05</td>\n",
       "      <td>34596.000000</td>\n",
       "      <td>6.795000e+05</td>\n",
       "      <td>0.028663</td>\n",
       "      <td>-12413.000000</td>\n",
       "      <td>-289.000000</td>\n",
       "      <td>-2010.000000</td>\n",
       "      <td>-1720.000000</td>\n",
       "      <td>15.000000</td>\n",
       "      <td>1.000000</td>\n",
       "      <td>1.000000</td>\n",
       "      <td>0.000000</td>\n",
       "      <td>1.000000</td>\n",
       "      <td>1.000000</td>\n",
       "      <td>0.000000</td>\n",
       "      <td>3.000000</td>\n",
       "      <td>2.000000</td>\n",
       "      <td>2.000000</td>\n",
       "      <td>14.000000</td>\n",
       "      <td>0.000000</td>\n",
       "      <td>0.000000</td>\n",
       "      <td>0.000000</td>\n",
       "      <td>0.000000</td>\n",
       "      <td>0.000000</td>\n",
       "      <td>0.000000</td>\n",
       "      <td>0.675053</td>\n",
       "      <td>6.636171e-01</td>\n",
       "      <td>0.669057</td>\n",
       "      <td>0.14850</td>\n",
       "      <td>0.112200</td>\n",
       "      <td>0.986600</td>\n",
       "      <td>0.823200</td>\n",
       "      <td>0.051500</td>\n",
       "      <td>0.120000</td>\n",
       "      <td>0.206900</td>\n",
       "      <td>0.333300</td>\n",
       "      <td>0.375000</td>\n",
       "      <td>0.085600</td>\n",
       "      <td>0.121000</td>\n",
       "      <td>0.129900</td>\n",
       "      <td>0.003900</td>\n",
       "      <td>0.027700</td>\n",
       "      <td>0.143900</td>\n",
       "      <td>0.112400</td>\n",
       "      <td>0.986600</td>\n",
       "      <td>0.823600</td>\n",
       "      <td>0.049000</td>\n",
       "      <td>0.120800</td>\n",
       "      <td>0.206900</td>\n",
       "      <td>0.333300</td>\n",
       "      <td>0.375000</td>\n",
       "      <td>0.084100</td>\n",
       "      <td>0.131300</td>\n",
       "      <td>0.125200</td>\n",
       "      <td>0.003900</td>\n",
       "      <td>0.023100</td>\n",
       "      <td>0.148900</td>\n",
       "      <td>0.111600</td>\n",
       "      <td>0.986600</td>\n",
       "      <td>0.825600</td>\n",
       "      <td>0.051300</td>\n",
       "      <td>0.120000</td>\n",
       "      <td>0.206900</td>\n",
       "      <td>0.333300</td>\n",
       "      <td>0.375000</td>\n",
       "      <td>0.086800</td>\n",
       "      <td>0.123100</td>\n",
       "      <td>0.130300</td>\n",
       "      <td>0.003900</td>\n",
       "      <td>0.026600</td>\n",
       "      <td>0.127600</td>\n",
       "      <td>2.000000</td>\n",
       "      <td>0.000000</td>\n",
       "      <td>2.000000</td>\n",
       "      <td>0.000000</td>\n",
       "      <td>-274.000000</td>\n",
       "      <td>0.000000</td>\n",
       "      <td>1.000000</td>\n",
       "      <td>0.000000</td>\n",
       "      <td>0.000000</td>\n",
       "      <td>0.000000</td>\n",
       "      <td>0.000000</td>\n",
       "      <td>0.000000</td>\n",
       "      <td>0.000000</td>\n",
       "      <td>0.000000</td>\n",
       "      <td>0.000000</td>\n",
       "      <td>0.000000</td>\n",
       "      <td>0.000000</td>\n",
       "      <td>0.000000</td>\n",
       "      <td>0.00000</td>\n",
       "      <td>0.000000</td>\n",
       "      <td>0.000000</td>\n",
       "      <td>0.000000</td>\n",
       "      <td>0.000000</td>\n",
       "      <td>0.000000</td>\n",
       "      <td>0.000000</td>\n",
       "      <td>0.000000</td>\n",
       "      <td>0.000000</td>\n",
       "      <td>0.000000</td>\n",
       "      <td>0.000000</td>\n",
       "      <td>0.000000</td>\n",
       "      <td>3.000000</td>\n",
       "    </tr>\n",
       "    <tr>\n",
       "      <th>max</th>\n",
       "      <td>456255.000000</td>\n",
       "      <td>1.000000</td>\n",
       "      <td>19.000000</td>\n",
       "      <td>1.170000e+08</td>\n",
       "      <td>4.050000e+06</td>\n",
       "      <td>258025.500000</td>\n",
       "      <td>4.050000e+06</td>\n",
       "      <td>0.072508</td>\n",
       "      <td>-7489.000000</td>\n",
       "      <td>365243.000000</td>\n",
       "      <td>0.000000</td>\n",
       "      <td>0.000000</td>\n",
       "      <td>91.000000</td>\n",
       "      <td>1.000000</td>\n",
       "      <td>1.000000</td>\n",
       "      <td>1.000000</td>\n",
       "      <td>1.000000</td>\n",
       "      <td>1.000000</td>\n",
       "      <td>1.000000</td>\n",
       "      <td>20.000000</td>\n",
       "      <td>3.000000</td>\n",
       "      <td>3.000000</td>\n",
       "      <td>23.000000</td>\n",
       "      <td>1.000000</td>\n",
       "      <td>1.000000</td>\n",
       "      <td>1.000000</td>\n",
       "      <td>1.000000</td>\n",
       "      <td>1.000000</td>\n",
       "      <td>1.000000</td>\n",
       "      <td>0.962693</td>\n",
       "      <td>8.549997e-01</td>\n",
       "      <td>0.896010</td>\n",
       "      <td>1.00000</td>\n",
       "      <td>1.000000</td>\n",
       "      <td>1.000000</td>\n",
       "      <td>1.000000</td>\n",
       "      <td>1.000000</td>\n",
       "      <td>1.000000</td>\n",
       "      <td>1.000000</td>\n",
       "      <td>1.000000</td>\n",
       "      <td>1.000000</td>\n",
       "      <td>1.000000</td>\n",
       "      <td>1.000000</td>\n",
       "      <td>1.000000</td>\n",
       "      <td>1.000000</td>\n",
       "      <td>1.000000</td>\n",
       "      <td>1.000000</td>\n",
       "      <td>1.000000</td>\n",
       "      <td>1.000000</td>\n",
       "      <td>1.000000</td>\n",
       "      <td>1.000000</td>\n",
       "      <td>1.000000</td>\n",
       "      <td>1.000000</td>\n",
       "      <td>1.000000</td>\n",
       "      <td>1.000000</td>\n",
       "      <td>1.000000</td>\n",
       "      <td>1.000000</td>\n",
       "      <td>1.000000</td>\n",
       "      <td>1.000000</td>\n",
       "      <td>1.000000</td>\n",
       "      <td>1.000000</td>\n",
       "      <td>1.000000</td>\n",
       "      <td>1.000000</td>\n",
       "      <td>1.000000</td>\n",
       "      <td>1.000000</td>\n",
       "      <td>1.000000</td>\n",
       "      <td>1.000000</td>\n",
       "      <td>1.000000</td>\n",
       "      <td>1.000000</td>\n",
       "      <td>1.000000</td>\n",
       "      <td>1.000000</td>\n",
       "      <td>1.000000</td>\n",
       "      <td>1.000000</td>\n",
       "      <td>1.000000</td>\n",
       "      <td>1.000000</td>\n",
       "      <td>348.000000</td>\n",
       "      <td>34.000000</td>\n",
       "      <td>344.000000</td>\n",
       "      <td>24.000000</td>\n",
       "      <td>0.000000</td>\n",
       "      <td>1.000000</td>\n",
       "      <td>1.000000</td>\n",
       "      <td>1.000000</td>\n",
       "      <td>1.000000</td>\n",
       "      <td>1.000000</td>\n",
       "      <td>1.000000</td>\n",
       "      <td>1.000000</td>\n",
       "      <td>1.000000</td>\n",
       "      <td>1.000000</td>\n",
       "      <td>1.000000</td>\n",
       "      <td>1.000000</td>\n",
       "      <td>1.000000</td>\n",
       "      <td>1.000000</td>\n",
       "      <td>1.00000</td>\n",
       "      <td>1.000000</td>\n",
       "      <td>1.000000</td>\n",
       "      <td>1.000000</td>\n",
       "      <td>1.000000</td>\n",
       "      <td>1.000000</td>\n",
       "      <td>1.000000</td>\n",
       "      <td>4.000000</td>\n",
       "      <td>9.000000</td>\n",
       "      <td>8.000000</td>\n",
       "      <td>27.000000</td>\n",
       "      <td>261.000000</td>\n",
       "      <td>25.000000</td>\n",
       "    </tr>\n",
       "  </tbody>\n",
       "</table>\n",
       "</div>"
      ],
      "text/plain": [
       "          SK_ID_CURR         TARGET   CNT_CHILDREN  AMT_INCOME_TOTAL  \\\n",
       "count  307511.000000  307511.000000  307511.000000      3.075110e+05   \n",
       "mean   278180.518577       0.080729       0.417052      1.687979e+05   \n",
       "std    102790.175348       0.272419       0.722121      2.371231e+05   \n",
       "min    100002.000000       0.000000       0.000000      2.565000e+04   \n",
       "25%    189145.500000       0.000000       0.000000      1.125000e+05   \n",
       "50%    278202.000000       0.000000       0.000000      1.471500e+05   \n",
       "75%    367142.500000       0.000000       1.000000      2.025000e+05   \n",
       "max    456255.000000       1.000000      19.000000      1.170000e+08   \n",
       "\n",
       "         AMT_CREDIT    AMT_ANNUITY  AMT_GOODS_PRICE  \\\n",
       "count  3.075110e+05  307499.000000     3.072330e+05   \n",
       "mean   5.990260e+05   27108.573909     5.383962e+05   \n",
       "std    4.024908e+05   14493.737315     3.694465e+05   \n",
       "min    4.500000e+04    1615.500000     4.050000e+04   \n",
       "25%    2.700000e+05   16524.000000     2.385000e+05   \n",
       "50%    5.135310e+05   24903.000000     4.500000e+05   \n",
       "75%    8.086500e+05   34596.000000     6.795000e+05   \n",
       "max    4.050000e+06  258025.500000     4.050000e+06   \n",
       "\n",
       "       REGION_POPULATION_RELATIVE     DAYS_BIRTH  DAYS_EMPLOYED  \\\n",
       "count               307511.000000  307511.000000  307511.000000   \n",
       "mean                     0.020868  -16036.995067   63815.045904   \n",
       "std                      0.013831    4363.988632  141275.766519   \n",
       "min                      0.000290  -25229.000000  -17912.000000   \n",
       "25%                      0.010006  -19682.000000   -2760.000000   \n",
       "50%                      0.018850  -15750.000000   -1213.000000   \n",
       "75%                      0.028663  -12413.000000    -289.000000   \n",
       "max                      0.072508   -7489.000000  365243.000000   \n",
       "\n",
       "       DAYS_REGISTRATION  DAYS_ID_PUBLISH    OWN_CAR_AGE     FLAG_MOBIL  \\\n",
       "count      307511.000000    307511.000000  104582.000000  307511.000000   \n",
       "mean        -4986.120328     -2994.202373      12.061091       0.999997   \n",
       "std          3522.886321      1509.450419      11.944812       0.001803   \n",
       "min        -24672.000000     -7197.000000       0.000000       0.000000   \n",
       "25%         -7479.500000     -4299.000000       5.000000       1.000000   \n",
       "50%         -4504.000000     -3254.000000       9.000000       1.000000   \n",
       "75%         -2010.000000     -1720.000000      15.000000       1.000000   \n",
       "max             0.000000         0.000000      91.000000       1.000000   \n",
       "\n",
       "       FLAG_EMP_PHONE  FLAG_WORK_PHONE  FLAG_CONT_MOBILE     FLAG_PHONE  \\\n",
       "count   307511.000000    307511.000000     307511.000000  307511.000000   \n",
       "mean         0.819889         0.199368          0.998133       0.281066   \n",
       "std          0.384280         0.399526          0.043164       0.449521   \n",
       "min          0.000000         0.000000          0.000000       0.000000   \n",
       "25%          1.000000         0.000000          1.000000       0.000000   \n",
       "50%          1.000000         0.000000          1.000000       0.000000   \n",
       "75%          1.000000         0.000000          1.000000       1.000000   \n",
       "max          1.000000         1.000000          1.000000       1.000000   \n",
       "\n",
       "          FLAG_EMAIL  CNT_FAM_MEMBERS  REGION_RATING_CLIENT  \\\n",
       "count  307511.000000    307509.000000         307511.000000   \n",
       "mean        0.056720         2.152665              2.052463   \n",
       "std         0.231307         0.910682              0.509034   \n",
       "min         0.000000         1.000000              1.000000   \n",
       "25%         0.000000         2.000000              2.000000   \n",
       "50%         0.000000         2.000000              2.000000   \n",
       "75%         0.000000         3.000000              2.000000   \n",
       "max         1.000000        20.000000              3.000000   \n",
       "\n",
       "       REGION_RATING_CLIENT_W_CITY  HOUR_APPR_PROCESS_START  \\\n",
       "count                307511.000000            307511.000000   \n",
       "mean                      2.031521                12.063419   \n",
       "std                       0.502737                 3.265832   \n",
       "min                       1.000000                 0.000000   \n",
       "25%                       2.000000                10.000000   \n",
       "50%                       2.000000                12.000000   \n",
       "75%                       2.000000                14.000000   \n",
       "max                       3.000000                23.000000   \n",
       "\n",
       "       REG_REGION_NOT_LIVE_REGION  REG_REGION_NOT_WORK_REGION  \\\n",
       "count               307511.000000               307511.000000   \n",
       "mean                     0.015144                    0.050769   \n",
       "std                      0.122126                    0.219526   \n",
       "min                      0.000000                    0.000000   \n",
       "25%                      0.000000                    0.000000   \n",
       "50%                      0.000000                    0.000000   \n",
       "75%                      0.000000                    0.000000   \n",
       "max                      1.000000                    1.000000   \n",
       "\n",
       "       LIVE_REGION_NOT_WORK_REGION  REG_CITY_NOT_LIVE_CITY  \\\n",
       "count                307511.000000           307511.000000   \n",
       "mean                      0.040659                0.078173   \n",
       "std                       0.197499                0.268444   \n",
       "min                       0.000000                0.000000   \n",
       "25%                       0.000000                0.000000   \n",
       "50%                       0.000000                0.000000   \n",
       "75%                       0.000000                0.000000   \n",
       "max                       1.000000                1.000000   \n",
       "\n",
       "       REG_CITY_NOT_WORK_CITY  LIVE_CITY_NOT_WORK_CITY   EXT_SOURCE_1  \\\n",
       "count           307511.000000            307511.000000  134133.000000   \n",
       "mean                 0.230454                 0.179555       0.502130   \n",
       "std                  0.421124                 0.383817       0.211062   \n",
       "min                  0.000000                 0.000000       0.014568   \n",
       "25%                  0.000000                 0.000000       0.334007   \n",
       "50%                  0.000000                 0.000000       0.505998   \n",
       "75%                  0.000000                 0.000000       0.675053   \n",
       "max                  1.000000                 1.000000       0.962693   \n",
       "\n",
       "       EXT_SOURCE_2   EXT_SOURCE_3  APARTMENTS_AVG  BASEMENTAREA_AVG  \\\n",
       "count  3.068510e+05  246546.000000    151450.00000     127568.000000   \n",
       "mean   5.143927e-01       0.510853         0.11744          0.088442   \n",
       "std    1.910602e-01       0.194844         0.10824          0.082438   \n",
       "min    8.173617e-08       0.000527         0.00000          0.000000   \n",
       "25%    3.924574e-01       0.370650         0.05770          0.044200   \n",
       "50%    5.659614e-01       0.535276         0.08760          0.076300   \n",
       "75%    6.636171e-01       0.669057         0.14850          0.112200   \n",
       "max    8.549997e-01       0.896010         1.00000          1.000000   \n",
       "\n",
       "       YEARS_BEGINEXPLUATATION_AVG  YEARS_BUILD_AVG  COMMONAREA_AVG  \\\n",
       "count                157504.000000    103023.000000    92646.000000   \n",
       "mean                      0.977735         0.752471        0.044621   \n",
       "std                       0.059223         0.113280        0.076036   \n",
       "min                       0.000000         0.000000        0.000000   \n",
       "25%                       0.976700         0.687200        0.007800   \n",
       "50%                       0.981600         0.755200        0.021100   \n",
       "75%                       0.986600         0.823200        0.051500   \n",
       "max                       1.000000         1.000000        1.000000   \n",
       "\n",
       "       ELEVATORS_AVG  ENTRANCES_AVG  FLOORSMAX_AVG  FLOORSMIN_AVG  \\\n",
       "count  143620.000000  152683.000000  154491.000000   98869.000000   \n",
       "mean        0.078942       0.149725       0.226282       0.231894   \n",
       "std         0.134576       0.100049       0.144641       0.161380   \n",
       "min         0.000000       0.000000       0.000000       0.000000   \n",
       "25%         0.000000       0.069000       0.166700       0.083300   \n",
       "50%         0.000000       0.137900       0.166700       0.208300   \n",
       "75%         0.120000       0.206900       0.333300       0.375000   \n",
       "max         1.000000       1.000000       1.000000       1.000000   \n",
       "\n",
       "        LANDAREA_AVG  LIVINGAPARTMENTS_AVG  LIVINGAREA_AVG  \\\n",
       "count  124921.000000          97312.000000   153161.000000   \n",
       "mean        0.066333              0.100775        0.107399   \n",
       "std         0.081184              0.092576        0.110565   \n",
       "min         0.000000              0.000000        0.000000   \n",
       "25%         0.018700              0.050400        0.045300   \n",
       "50%         0.048100              0.075600        0.074500   \n",
       "75%         0.085600              0.121000        0.129900   \n",
       "max         1.000000              1.000000        1.000000   \n",
       "\n",
       "       NONLIVINGAPARTMENTS_AVG  NONLIVINGAREA_AVG  APARTMENTS_MODE  \\\n",
       "count             93997.000000      137829.000000    151450.000000   \n",
       "mean                  0.008809           0.028358         0.114231   \n",
       "std                   0.047732           0.069523         0.107936   \n",
       "min                   0.000000           0.000000         0.000000   \n",
       "25%                   0.000000           0.000000         0.052500   \n",
       "50%                   0.000000           0.003600         0.084000   \n",
       "75%                   0.003900           0.027700         0.143900   \n",
       "max                   1.000000           1.000000         1.000000   \n",
       "\n",
       "       BASEMENTAREA_MODE  YEARS_BEGINEXPLUATATION_MODE  YEARS_BUILD_MODE  \\\n",
       "count      127568.000000                 157504.000000     103023.000000   \n",
       "mean            0.087543                      0.977065          0.759637   \n",
       "std             0.084307                      0.064575          0.110111   \n",
       "min             0.000000                      0.000000          0.000000   \n",
       "25%             0.040700                      0.976700          0.699400   \n",
       "50%             0.074600                      0.981600          0.764800   \n",
       "75%             0.112400                      0.986600          0.823600   \n",
       "max             1.000000                      1.000000          1.000000   \n",
       "\n",
       "       COMMONAREA_MODE  ELEVATORS_MODE  ENTRANCES_MODE  FLOORSMAX_MODE  \\\n",
       "count     92646.000000   143620.000000   152683.000000   154491.000000   \n",
       "mean          0.042553        0.074490        0.145193        0.222315   \n",
       "std           0.074445        0.132256        0.100977        0.143709   \n",
       "min           0.000000        0.000000        0.000000        0.000000   \n",
       "25%           0.007200        0.000000        0.069000        0.166700   \n",
       "50%           0.019000        0.000000        0.137900        0.166700   \n",
       "75%           0.049000        0.120800        0.206900        0.333300   \n",
       "max           1.000000        1.000000        1.000000        1.000000   \n",
       "\n",
       "       FLOORSMIN_MODE  LANDAREA_MODE  LIVINGAPARTMENTS_MODE  LIVINGAREA_MODE  \\\n",
       "count    98869.000000  124921.000000           97312.000000    153161.000000   \n",
       "mean         0.228058       0.064958               0.105645         0.105975   \n",
       "std          0.161160       0.081750               0.097880         0.111845   \n",
       "min          0.000000       0.000000               0.000000         0.000000   \n",
       "25%          0.083300       0.016600               0.054200         0.042700   \n",
       "50%          0.208300       0.045800               0.077100         0.073100   \n",
       "75%          0.375000       0.084100               0.131300         0.125200   \n",
       "max          1.000000       1.000000               1.000000         1.000000   \n",
       "\n",
       "       NONLIVINGAPARTMENTS_MODE  NONLIVINGAREA_MODE  APARTMENTS_MEDI  \\\n",
       "count              93997.000000       137829.000000    151450.000000   \n",
       "mean                   0.008076            0.027022         0.117850   \n",
       "std                    0.046276            0.070254         0.109076   \n",
       "min                    0.000000            0.000000         0.000000   \n",
       "25%                    0.000000            0.000000         0.058300   \n",
       "50%                    0.000000            0.001100         0.086400   \n",
       "75%                    0.003900            0.023100         0.148900   \n",
       "max                    1.000000            1.000000         1.000000   \n",
       "\n",
       "       BASEMENTAREA_MEDI  YEARS_BEGINEXPLUATATION_MEDI  YEARS_BUILD_MEDI  \\\n",
       "count      127568.000000                 157504.000000     103023.000000   \n",
       "mean            0.087955                      0.977752          0.755746   \n",
       "std             0.082179                      0.059897          0.112066   \n",
       "min             0.000000                      0.000000          0.000000   \n",
       "25%             0.043700                      0.976700          0.691400   \n",
       "50%             0.075800                      0.981600          0.758500   \n",
       "75%             0.111600                      0.986600          0.825600   \n",
       "max             1.000000                      1.000000          1.000000   \n",
       "\n",
       "       COMMONAREA_MEDI  ELEVATORS_MEDI  ENTRANCES_MEDI  FLOORSMAX_MEDI  \\\n",
       "count     92646.000000   143620.000000   152683.000000   154491.000000   \n",
       "mean          0.044595        0.078078        0.149213        0.225897   \n",
       "std           0.076144        0.134467        0.100368        0.145067   \n",
       "min           0.000000        0.000000        0.000000        0.000000   \n",
       "25%           0.007900        0.000000        0.069000        0.166700   \n",
       "50%           0.020800        0.000000        0.137900        0.166700   \n",
       "75%           0.051300        0.120000        0.206900        0.333300   \n",
       "max           1.000000        1.000000        1.000000        1.000000   \n",
       "\n",
       "       FLOORSMIN_MEDI  LANDAREA_MEDI  LIVINGAPARTMENTS_MEDI  LIVINGAREA_MEDI  \\\n",
       "count    98869.000000  124921.000000           97312.000000    153161.000000   \n",
       "mean         0.231625       0.067169               0.101954         0.108607   \n",
       "std          0.161934       0.082167               0.093642         0.112260   \n",
       "min          0.000000       0.000000               0.000000         0.000000   \n",
       "25%          0.083300       0.018700               0.051300         0.045700   \n",
       "50%          0.208300       0.048700               0.076100         0.074900   \n",
       "75%          0.375000       0.086800               0.123100         0.130300   \n",
       "max          1.000000       1.000000               1.000000         1.000000   \n",
       "\n",
       "       NONLIVINGAPARTMENTS_MEDI  NONLIVINGAREA_MEDI  TOTALAREA_MODE  \\\n",
       "count              93997.000000       137829.000000   159080.000000   \n",
       "mean                   0.008651            0.028236        0.102547   \n",
       "std                    0.047415            0.070166        0.107462   \n",
       "min                    0.000000            0.000000        0.000000   \n",
       "25%                    0.000000            0.000000        0.041200   \n",
       "50%                    0.000000            0.003100        0.068800   \n",
       "75%                    0.003900            0.026600        0.127600   \n",
       "max                    1.000000            1.000000        1.000000   \n",
       "\n",
       "       OBS_30_CNT_SOCIAL_CIRCLE  DEF_30_CNT_SOCIAL_CIRCLE  \\\n",
       "count             306490.000000             306490.000000   \n",
       "mean                   1.422245                  0.143421   \n",
       "std                    2.400989                  0.446698   \n",
       "min                    0.000000                  0.000000   \n",
       "25%                    0.000000                  0.000000   \n",
       "50%                    0.000000                  0.000000   \n",
       "75%                    2.000000                  0.000000   \n",
       "max                  348.000000                 34.000000   \n",
       "\n",
       "       OBS_60_CNT_SOCIAL_CIRCLE  DEF_60_CNT_SOCIAL_CIRCLE  \\\n",
       "count             306490.000000             306490.000000   \n",
       "mean                   1.405292                  0.100049   \n",
       "std                    2.379803                  0.362291   \n",
       "min                    0.000000                  0.000000   \n",
       "25%                    0.000000                  0.000000   \n",
       "50%                    0.000000                  0.000000   \n",
       "75%                    2.000000                  0.000000   \n",
       "max                  344.000000                 24.000000   \n",
       "\n",
       "       DAYS_LAST_PHONE_CHANGE  FLAG_DOCUMENT_2  FLAG_DOCUMENT_3  \\\n",
       "count           307510.000000    307511.000000    307511.000000   \n",
       "mean              -962.858788         0.000042         0.710023   \n",
       "std                826.808487         0.006502         0.453752   \n",
       "min              -4292.000000         0.000000         0.000000   \n",
       "25%              -1570.000000         0.000000         0.000000   \n",
       "50%               -757.000000         0.000000         1.000000   \n",
       "75%               -274.000000         0.000000         1.000000   \n",
       "max                  0.000000         1.000000         1.000000   \n",
       "\n",
       "       FLAG_DOCUMENT_4  FLAG_DOCUMENT_5  FLAG_DOCUMENT_6  FLAG_DOCUMENT_7  \\\n",
       "count    307511.000000    307511.000000    307511.000000    307511.000000   \n",
       "mean          0.000081         0.015115         0.088055         0.000192   \n",
       "std           0.009016         0.122010         0.283376         0.013850   \n",
       "min           0.000000         0.000000         0.000000         0.000000   \n",
       "25%           0.000000         0.000000         0.000000         0.000000   \n",
       "50%           0.000000         0.000000         0.000000         0.000000   \n",
       "75%           0.000000         0.000000         0.000000         0.000000   \n",
       "max           1.000000         1.000000         1.000000         1.000000   \n",
       "\n",
       "       FLAG_DOCUMENT_8  FLAG_DOCUMENT_9  FLAG_DOCUMENT_10  FLAG_DOCUMENT_11  \\\n",
       "count    307511.000000    307511.000000     307511.000000     307511.000000   \n",
       "mean          0.081376         0.003896          0.000023          0.003912   \n",
       "std           0.273412         0.062295          0.004771          0.062424   \n",
       "min           0.000000         0.000000          0.000000          0.000000   \n",
       "25%           0.000000         0.000000          0.000000          0.000000   \n",
       "50%           0.000000         0.000000          0.000000          0.000000   \n",
       "75%           0.000000         0.000000          0.000000          0.000000   \n",
       "max           1.000000         1.000000          1.000000          1.000000   \n",
       "\n",
       "       FLAG_DOCUMENT_12  FLAG_DOCUMENT_13  FLAG_DOCUMENT_14  FLAG_DOCUMENT_15  \\\n",
       "count     307511.000000     307511.000000     307511.000000      307511.00000   \n",
       "mean           0.000007          0.003525          0.002936           0.00121   \n",
       "std            0.002550          0.059268          0.054110           0.03476   \n",
       "min            0.000000          0.000000          0.000000           0.00000   \n",
       "25%            0.000000          0.000000          0.000000           0.00000   \n",
       "50%            0.000000          0.000000          0.000000           0.00000   \n",
       "75%            0.000000          0.000000          0.000000           0.00000   \n",
       "max            1.000000          1.000000          1.000000           1.00000   \n",
       "\n",
       "       FLAG_DOCUMENT_16  FLAG_DOCUMENT_17  FLAG_DOCUMENT_18  FLAG_DOCUMENT_19  \\\n",
       "count     307511.000000     307511.000000     307511.000000     307511.000000   \n",
       "mean           0.009928          0.000267          0.008130          0.000595   \n",
       "std            0.099144          0.016327          0.089798          0.024387   \n",
       "min            0.000000          0.000000          0.000000          0.000000   \n",
       "25%            0.000000          0.000000          0.000000          0.000000   \n",
       "50%            0.000000          0.000000          0.000000          0.000000   \n",
       "75%            0.000000          0.000000          0.000000          0.000000   \n",
       "max            1.000000          1.000000          1.000000          1.000000   \n",
       "\n",
       "       FLAG_DOCUMENT_20  FLAG_DOCUMENT_21  AMT_REQ_CREDIT_BUREAU_HOUR  \\\n",
       "count     307511.000000     307511.000000               265992.000000   \n",
       "mean           0.000507          0.000335                    0.006402   \n",
       "std            0.022518          0.018299                    0.083849   \n",
       "min            0.000000          0.000000                    0.000000   \n",
       "25%            0.000000          0.000000                    0.000000   \n",
       "50%            0.000000          0.000000                    0.000000   \n",
       "75%            0.000000          0.000000                    0.000000   \n",
       "max            1.000000          1.000000                    4.000000   \n",
       "\n",
       "       AMT_REQ_CREDIT_BUREAU_DAY  AMT_REQ_CREDIT_BUREAU_WEEK  \\\n",
       "count              265992.000000               265992.000000   \n",
       "mean                    0.007000                    0.034362   \n",
       "std                     0.110757                    0.204685   \n",
       "min                     0.000000                    0.000000   \n",
       "25%                     0.000000                    0.000000   \n",
       "50%                     0.000000                    0.000000   \n",
       "75%                     0.000000                    0.000000   \n",
       "max                     9.000000                    8.000000   \n",
       "\n",
       "       AMT_REQ_CREDIT_BUREAU_MON  AMT_REQ_CREDIT_BUREAU_QRT  \\\n",
       "count              265992.000000              265992.000000   \n",
       "mean                    0.267395                   0.265474   \n",
       "std                     0.916002                   0.794056   \n",
       "min                     0.000000                   0.000000   \n",
       "25%                     0.000000                   0.000000   \n",
       "50%                     0.000000                   0.000000   \n",
       "75%                     0.000000                   0.000000   \n",
       "max                    27.000000                 261.000000   \n",
       "\n",
       "       AMT_REQ_CREDIT_BUREAU_YEAR  \n",
       "count               265992.000000  \n",
       "mean                     1.899974  \n",
       "std                      1.869295  \n",
       "min                      0.000000  \n",
       "25%                      0.000000  \n",
       "50%                      1.000000  \n",
       "75%                      3.000000  \n",
       "max                     25.000000  "
      ]
     },
     "execution_count": 4,
     "metadata": {},
     "output_type": "execute_result"
    }
   ],
   "source": [
    "application_dataset.describe()"
   ]
  },
  {
   "cell_type": "code",
   "execution_count": 5,
   "metadata": {},
   "outputs": [
    {
     "name": "stdout",
     "output_type": "stream",
     "text": [
      "<class 'pandas.core.frame.DataFrame'>\n",
      "RangeIndex: 307511 entries, 0 to 307510\n",
      "Data columns (total 122 columns):\n",
      " #   Column                        Non-Null Count   Dtype  \n",
      "---  ------                        --------------   -----  \n",
      " 0   SK_ID_CURR                    307511 non-null  int64  \n",
      " 1   TARGET                        307511 non-null  int64  \n",
      " 2   NAME_CONTRACT_TYPE            307511 non-null  object \n",
      " 3   CODE_GENDER                   307511 non-null  object \n",
      " 4   FLAG_OWN_CAR                  307511 non-null  object \n",
      " 5   FLAG_OWN_REALTY               307511 non-null  object \n",
      " 6   CNT_CHILDREN                  307511 non-null  int64  \n",
      " 7   AMT_INCOME_TOTAL              307511 non-null  float64\n",
      " 8   AMT_CREDIT                    307511 non-null  float64\n",
      " 9   AMT_ANNUITY                   307499 non-null  float64\n",
      " 10  AMT_GOODS_PRICE               307233 non-null  float64\n",
      " 11  NAME_TYPE_SUITE               306219 non-null  object \n",
      " 12  NAME_INCOME_TYPE              307511 non-null  object \n",
      " 13  NAME_EDUCATION_TYPE           307511 non-null  object \n",
      " 14  NAME_FAMILY_STATUS            307511 non-null  object \n",
      " 15  NAME_HOUSING_TYPE             307511 non-null  object \n",
      " 16  REGION_POPULATION_RELATIVE    307511 non-null  float64\n",
      " 17  DAYS_BIRTH                    307511 non-null  int64  \n",
      " 18  DAYS_EMPLOYED                 307511 non-null  int64  \n",
      " 19  DAYS_REGISTRATION             307511 non-null  float64\n",
      " 20  DAYS_ID_PUBLISH               307511 non-null  int64  \n",
      " 21  OWN_CAR_AGE                   104582 non-null  float64\n",
      " 22  FLAG_MOBIL                    307511 non-null  int64  \n",
      " 23  FLAG_EMP_PHONE                307511 non-null  int64  \n",
      " 24  FLAG_WORK_PHONE               307511 non-null  int64  \n",
      " 25  FLAG_CONT_MOBILE              307511 non-null  int64  \n",
      " 26  FLAG_PHONE                    307511 non-null  int64  \n",
      " 27  FLAG_EMAIL                    307511 non-null  int64  \n",
      " 28  OCCUPATION_TYPE               211120 non-null  object \n",
      " 29  CNT_FAM_MEMBERS               307509 non-null  float64\n",
      " 30  REGION_RATING_CLIENT          307511 non-null  int64  \n",
      " 31  REGION_RATING_CLIENT_W_CITY   307511 non-null  int64  \n",
      " 32  WEEKDAY_APPR_PROCESS_START    307511 non-null  object \n",
      " 33  HOUR_APPR_PROCESS_START       307511 non-null  int64  \n",
      " 34  REG_REGION_NOT_LIVE_REGION    307511 non-null  int64  \n",
      " 35  REG_REGION_NOT_WORK_REGION    307511 non-null  int64  \n",
      " 36  LIVE_REGION_NOT_WORK_REGION   307511 non-null  int64  \n",
      " 37  REG_CITY_NOT_LIVE_CITY        307511 non-null  int64  \n",
      " 38  REG_CITY_NOT_WORK_CITY        307511 non-null  int64  \n",
      " 39  LIVE_CITY_NOT_WORK_CITY       307511 non-null  int64  \n",
      " 40  ORGANIZATION_TYPE             307511 non-null  object \n",
      " 41  EXT_SOURCE_1                  134133 non-null  float64\n",
      " 42  EXT_SOURCE_2                  306851 non-null  float64\n",
      " 43  EXT_SOURCE_3                  246546 non-null  float64\n",
      " 44  APARTMENTS_AVG                151450 non-null  float64\n",
      " 45  BASEMENTAREA_AVG              127568 non-null  float64\n",
      " 46  YEARS_BEGINEXPLUATATION_AVG   157504 non-null  float64\n",
      " 47  YEARS_BUILD_AVG               103023 non-null  float64\n",
      " 48  COMMONAREA_AVG                92646 non-null   float64\n",
      " 49  ELEVATORS_AVG                 143620 non-null  float64\n",
      " 50  ENTRANCES_AVG                 152683 non-null  float64\n",
      " 51  FLOORSMAX_AVG                 154491 non-null  float64\n",
      " 52  FLOORSMIN_AVG                 98869 non-null   float64\n",
      " 53  LANDAREA_AVG                  124921 non-null  float64\n",
      " 54  LIVINGAPARTMENTS_AVG          97312 non-null   float64\n",
      " 55  LIVINGAREA_AVG                153161 non-null  float64\n",
      " 56  NONLIVINGAPARTMENTS_AVG       93997 non-null   float64\n",
      " 57  NONLIVINGAREA_AVG             137829 non-null  float64\n",
      " 58  APARTMENTS_MODE               151450 non-null  float64\n",
      " 59  BASEMENTAREA_MODE             127568 non-null  float64\n",
      " 60  YEARS_BEGINEXPLUATATION_MODE  157504 non-null  float64\n",
      " 61  YEARS_BUILD_MODE              103023 non-null  float64\n",
      " 62  COMMONAREA_MODE               92646 non-null   float64\n",
      " 63  ELEVATORS_MODE                143620 non-null  float64\n",
      " 64  ENTRANCES_MODE                152683 non-null  float64\n",
      " 65  FLOORSMAX_MODE                154491 non-null  float64\n",
      " 66  FLOORSMIN_MODE                98869 non-null   float64\n",
      " 67  LANDAREA_MODE                 124921 non-null  float64\n",
      " 68  LIVINGAPARTMENTS_MODE         97312 non-null   float64\n",
      " 69  LIVINGAREA_MODE               153161 non-null  float64\n",
      " 70  NONLIVINGAPARTMENTS_MODE      93997 non-null   float64\n",
      " 71  NONLIVINGAREA_MODE            137829 non-null  float64\n",
      " 72  APARTMENTS_MEDI               151450 non-null  float64\n",
      " 73  BASEMENTAREA_MEDI             127568 non-null  float64\n",
      " 74  YEARS_BEGINEXPLUATATION_MEDI  157504 non-null  float64\n",
      " 75  YEARS_BUILD_MEDI              103023 non-null  float64\n",
      " 76  COMMONAREA_MEDI               92646 non-null   float64\n",
      " 77  ELEVATORS_MEDI                143620 non-null  float64\n",
      " 78  ENTRANCES_MEDI                152683 non-null  float64\n",
      " 79  FLOORSMAX_MEDI                154491 non-null  float64\n",
      " 80  FLOORSMIN_MEDI                98869 non-null   float64\n",
      " 81  LANDAREA_MEDI                 124921 non-null  float64\n",
      " 82  LIVINGAPARTMENTS_MEDI         97312 non-null   float64\n",
      " 83  LIVINGAREA_MEDI               153161 non-null  float64\n",
      " 84  NONLIVINGAPARTMENTS_MEDI      93997 non-null   float64\n",
      " 85  NONLIVINGAREA_MEDI            137829 non-null  float64\n",
      " 86  FONDKAPREMONT_MODE            97216 non-null   object \n",
      " 87  HOUSETYPE_MODE                153214 non-null  object \n",
      " 88  TOTALAREA_MODE                159080 non-null  float64\n",
      " 89  WALLSMATERIAL_MODE            151170 non-null  object \n",
      " 90  EMERGENCYSTATE_MODE           161756 non-null  object \n",
      " 91  OBS_30_CNT_SOCIAL_CIRCLE      306490 non-null  float64\n",
      " 92  DEF_30_CNT_SOCIAL_CIRCLE      306490 non-null  float64\n",
      " 93  OBS_60_CNT_SOCIAL_CIRCLE      306490 non-null  float64\n",
      " 94  DEF_60_CNT_SOCIAL_CIRCLE      306490 non-null  float64\n",
      " 95  DAYS_LAST_PHONE_CHANGE        307510 non-null  float64\n",
      " 96  FLAG_DOCUMENT_2               307511 non-null  int64  \n",
      " 97  FLAG_DOCUMENT_3               307511 non-null  int64  \n",
      " 98  FLAG_DOCUMENT_4               307511 non-null  int64  \n",
      " 99  FLAG_DOCUMENT_5               307511 non-null  int64  \n",
      " 100 FLAG_DOCUMENT_6               307511 non-null  int64  \n",
      " 101 FLAG_DOCUMENT_7               307511 non-null  int64  \n",
      " 102 FLAG_DOCUMENT_8               307511 non-null  int64  \n",
      " 103 FLAG_DOCUMENT_9               307511 non-null  int64  \n",
      " 104 FLAG_DOCUMENT_10              307511 non-null  int64  \n",
      " 105 FLAG_DOCUMENT_11              307511 non-null  int64  \n",
      " 106 FLAG_DOCUMENT_12              307511 non-null  int64  \n",
      " 107 FLAG_DOCUMENT_13              307511 non-null  int64  \n",
      " 108 FLAG_DOCUMENT_14              307511 non-null  int64  \n",
      " 109 FLAG_DOCUMENT_15              307511 non-null  int64  \n",
      " 110 FLAG_DOCUMENT_16              307511 non-null  int64  \n",
      " 111 FLAG_DOCUMENT_17              307511 non-null  int64  \n",
      " 112 FLAG_DOCUMENT_18              307511 non-null  int64  \n",
      " 113 FLAG_DOCUMENT_19              307511 non-null  int64  \n",
      " 114 FLAG_DOCUMENT_20              307511 non-null  int64  \n",
      " 115 FLAG_DOCUMENT_21              307511 non-null  int64  \n",
      " 116 AMT_REQ_CREDIT_BUREAU_HOUR    265992 non-null  float64\n",
      " 117 AMT_REQ_CREDIT_BUREAU_DAY     265992 non-null  float64\n",
      " 118 AMT_REQ_CREDIT_BUREAU_WEEK    265992 non-null  float64\n",
      " 119 AMT_REQ_CREDIT_BUREAU_MON     265992 non-null  float64\n",
      " 120 AMT_REQ_CREDIT_BUREAU_QRT     265992 non-null  float64\n",
      " 121 AMT_REQ_CREDIT_BUREAU_YEAR    265992 non-null  float64\n",
      "dtypes: float64(65), int64(41), object(16)\n",
      "memory usage: 286.2+ MB\n"
     ]
    }
   ],
   "source": [
    "application_dataset.info(verbose = True,null_counts=True)"
   ]
  },
  {
   "cell_type": "code",
   "execution_count": 6,
   "metadata": {},
   "outputs": [
    {
     "data": {
      "text/plain": [
       "(307511, 122)"
      ]
     },
     "execution_count": 6,
     "metadata": {},
     "output_type": "execute_result"
    }
   ],
   "source": [
    "application_dataset.shape"
   ]
  },
  {
   "cell_type": "code",
   "execution_count": 7,
   "metadata": {},
   "outputs": [],
   "source": [
    "all_columns_with_null = application_dataset.columns[application_dataset.isnull().any(axis=0)]"
   ]
  },
  {
   "cell_type": "code",
   "execution_count": 8,
   "metadata": {},
   "outputs": [
    {
     "data": {
      "text/plain": [
       "Index(['AMT_ANNUITY', 'AMT_GOODS_PRICE', 'NAME_TYPE_SUITE', 'OWN_CAR_AGE',\n",
       "       'OCCUPATION_TYPE', 'CNT_FAM_MEMBERS', 'EXT_SOURCE_1', 'EXT_SOURCE_2',\n",
       "       'EXT_SOURCE_3', 'APARTMENTS_AVG', 'BASEMENTAREA_AVG',\n",
       "       'YEARS_BEGINEXPLUATATION_AVG', 'YEARS_BUILD_AVG', 'COMMONAREA_AVG',\n",
       "       'ELEVATORS_AVG', 'ENTRANCES_AVG', 'FLOORSMAX_AVG', 'FLOORSMIN_AVG',\n",
       "       'LANDAREA_AVG', 'LIVINGAPARTMENTS_AVG', 'LIVINGAREA_AVG',\n",
       "       'NONLIVINGAPARTMENTS_AVG', 'NONLIVINGAREA_AVG', 'APARTMENTS_MODE',\n",
       "       'BASEMENTAREA_MODE', 'YEARS_BEGINEXPLUATATION_MODE', 'YEARS_BUILD_MODE',\n",
       "       'COMMONAREA_MODE', 'ELEVATORS_MODE', 'ENTRANCES_MODE', 'FLOORSMAX_MODE',\n",
       "       'FLOORSMIN_MODE', 'LANDAREA_MODE', 'LIVINGAPARTMENTS_MODE',\n",
       "       'LIVINGAREA_MODE', 'NONLIVINGAPARTMENTS_MODE', 'NONLIVINGAREA_MODE',\n",
       "       'APARTMENTS_MEDI', 'BASEMENTAREA_MEDI', 'YEARS_BEGINEXPLUATATION_MEDI',\n",
       "       'YEARS_BUILD_MEDI', 'COMMONAREA_MEDI', 'ELEVATORS_MEDI',\n",
       "       'ENTRANCES_MEDI', 'FLOORSMAX_MEDI', 'FLOORSMIN_MEDI', 'LANDAREA_MEDI',\n",
       "       'LIVINGAPARTMENTS_MEDI', 'LIVINGAREA_MEDI', 'NONLIVINGAPARTMENTS_MEDI',\n",
       "       'NONLIVINGAREA_MEDI', 'FONDKAPREMONT_MODE', 'HOUSETYPE_MODE',\n",
       "       'TOTALAREA_MODE', 'WALLSMATERIAL_MODE', 'EMERGENCYSTATE_MODE',\n",
       "       'OBS_30_CNT_SOCIAL_CIRCLE', 'DEF_30_CNT_SOCIAL_CIRCLE',\n",
       "       'OBS_60_CNT_SOCIAL_CIRCLE', 'DEF_60_CNT_SOCIAL_CIRCLE',\n",
       "       'DAYS_LAST_PHONE_CHANGE', 'AMT_REQ_CREDIT_BUREAU_HOUR',\n",
       "       'AMT_REQ_CREDIT_BUREAU_DAY', 'AMT_REQ_CREDIT_BUREAU_WEEK',\n",
       "       'AMT_REQ_CREDIT_BUREAU_MON', 'AMT_REQ_CREDIT_BUREAU_QRT',\n",
       "       'AMT_REQ_CREDIT_BUREAU_YEAR'],\n",
       "      dtype='object')"
      ]
     },
     "execution_count": 8,
     "metadata": {},
     "output_type": "execute_result"
    }
   ],
   "source": [
    "all_columns_with_null"
   ]
  },
  {
   "cell_type": "code",
   "execution_count": 9,
   "metadata": {},
   "outputs": [],
   "source": [
    "#Getting the Percentage of missing values in the dataset\n",
    "percentage_of_null = (application_dataset[all_columns_with_null].isnull().sum()/application_dataset.shape[0])*100"
   ]
  },
  {
   "cell_type": "code",
   "execution_count": 10,
   "metadata": {},
   "outputs": [
    {
     "data": {
      "text/plain": [
       "DAYS_LAST_PHONE_CHANGE           0.000325\n",
       "CNT_FAM_MEMBERS                  0.000650\n",
       "AMT_ANNUITY                      0.003902\n",
       "AMT_GOODS_PRICE                  0.090403\n",
       "EXT_SOURCE_2                     0.214626\n",
       "DEF_60_CNT_SOCIAL_CIRCLE         0.332021\n",
       "OBS_60_CNT_SOCIAL_CIRCLE         0.332021\n",
       "DEF_30_CNT_SOCIAL_CIRCLE         0.332021\n",
       "OBS_30_CNT_SOCIAL_CIRCLE         0.332021\n",
       "NAME_TYPE_SUITE                  0.420148\n",
       "AMT_REQ_CREDIT_BUREAU_MON       13.501631\n",
       "AMT_REQ_CREDIT_BUREAU_WEEK      13.501631\n",
       "AMT_REQ_CREDIT_BUREAU_DAY       13.501631\n",
       "AMT_REQ_CREDIT_BUREAU_HOUR      13.501631\n",
       "AMT_REQ_CREDIT_BUREAU_QRT       13.501631\n",
       "AMT_REQ_CREDIT_BUREAU_YEAR      13.501631\n",
       "EXT_SOURCE_3                    19.825307\n",
       "OCCUPATION_TYPE                 31.345545\n",
       "EMERGENCYSTATE_MODE             47.398304\n",
       "TOTALAREA_MODE                  48.268517\n",
       "YEARS_BEGINEXPLUATATION_AVG     48.781019\n",
       "YEARS_BEGINEXPLUATATION_MODE    48.781019\n",
       "YEARS_BEGINEXPLUATATION_MEDI    48.781019\n",
       "FLOORSMAX_AVG                   49.760822\n",
       "FLOORSMAX_MEDI                  49.760822\n",
       "FLOORSMAX_MODE                  49.760822\n",
       "HOUSETYPE_MODE                  50.176091\n",
       "LIVINGAREA_AVG                  50.193326\n",
       "LIVINGAREA_MODE                 50.193326\n",
       "LIVINGAREA_MEDI                 50.193326\n",
       "ENTRANCES_MEDI                  50.348768\n",
       "ENTRANCES_AVG                   50.348768\n",
       "ENTRANCES_MODE                  50.348768\n",
       "APARTMENTS_AVG                  50.749729\n",
       "APARTMENTS_MODE                 50.749729\n",
       "APARTMENTS_MEDI                 50.749729\n",
       "WALLSMATERIAL_MODE              50.840783\n",
       "ELEVATORS_AVG                   53.295980\n",
       "ELEVATORS_MEDI                  53.295980\n",
       "ELEVATORS_MODE                  53.295980\n",
       "NONLIVINGAREA_MEDI              55.179164\n",
       "NONLIVINGAREA_MODE              55.179164\n",
       "NONLIVINGAREA_AVG               55.179164\n",
       "EXT_SOURCE_1                    56.381073\n",
       "BASEMENTAREA_MEDI               58.515956\n",
       "BASEMENTAREA_AVG                58.515956\n",
       "BASEMENTAREA_MODE               58.515956\n",
       "LANDAREA_MODE                   59.376738\n",
       "LANDAREA_MEDI                   59.376738\n",
       "LANDAREA_AVG                    59.376738\n",
       "OWN_CAR_AGE                     65.990810\n",
       "YEARS_BUILD_MODE                66.497784\n",
       "YEARS_BUILD_MEDI                66.497784\n",
       "YEARS_BUILD_AVG                 66.497784\n",
       "FLOORSMIN_MODE                  67.848630\n",
       "FLOORSMIN_MEDI                  67.848630\n",
       "FLOORSMIN_AVG                   67.848630\n",
       "LIVINGAPARTMENTS_MODE           68.354953\n",
       "LIVINGAPARTMENTS_MEDI           68.354953\n",
       "LIVINGAPARTMENTS_AVG            68.354953\n",
       "FONDKAPREMONT_MODE              68.386172\n",
       "NONLIVINGAPARTMENTS_MEDI        69.432963\n",
       "NONLIVINGAPARTMENTS_MODE        69.432963\n",
       "NONLIVINGAPARTMENTS_AVG         69.432963\n",
       "COMMONAREA_MODE                 69.872297\n",
       "COMMONAREA_AVG                  69.872297\n",
       "COMMONAREA_MEDI                 69.872297\n",
       "dtype: float64"
      ]
     },
     "execution_count": 10,
     "metadata": {},
     "output_type": "execute_result"
    }
   ],
   "source": [
    "percentage_of_null.sort_values(inplace=True)\n",
    "percentage_of_null"
   ]
  },
  {
   "cell_type": "code",
   "execution_count": 11,
   "metadata": {},
   "outputs": [],
   "source": [
    "columns_with_max_missing_values = percentage_of_null[percentage_of_null>40]"
   ]
  },
  {
   "cell_type": "code",
   "execution_count": 12,
   "metadata": {},
   "outputs": [
    {
     "data": {
      "text/plain": [
       "Index(['EMERGENCYSTATE_MODE', 'TOTALAREA_MODE', 'YEARS_BEGINEXPLUATATION_AVG',\n",
       "       'YEARS_BEGINEXPLUATATION_MODE', 'YEARS_BEGINEXPLUATATION_MEDI',\n",
       "       'FLOORSMAX_AVG', 'FLOORSMAX_MEDI', 'FLOORSMAX_MODE', 'HOUSETYPE_MODE',\n",
       "       'LIVINGAREA_AVG', 'LIVINGAREA_MODE', 'LIVINGAREA_MEDI',\n",
       "       'ENTRANCES_MEDI', 'ENTRANCES_AVG', 'ENTRANCES_MODE', 'APARTMENTS_AVG',\n",
       "       'APARTMENTS_MODE', 'APARTMENTS_MEDI', 'WALLSMATERIAL_MODE',\n",
       "       'ELEVATORS_AVG', 'ELEVATORS_MEDI', 'ELEVATORS_MODE',\n",
       "       'NONLIVINGAREA_MEDI', 'NONLIVINGAREA_MODE', 'NONLIVINGAREA_AVG',\n",
       "       'EXT_SOURCE_1', 'BASEMENTAREA_MEDI', 'BASEMENTAREA_AVG',\n",
       "       'BASEMENTAREA_MODE', 'LANDAREA_MODE', 'LANDAREA_MEDI', 'LANDAREA_AVG',\n",
       "       'OWN_CAR_AGE', 'YEARS_BUILD_MODE', 'YEARS_BUILD_MEDI',\n",
       "       'YEARS_BUILD_AVG', 'FLOORSMIN_MODE', 'FLOORSMIN_MEDI', 'FLOORSMIN_AVG',\n",
       "       'LIVINGAPARTMENTS_MODE', 'LIVINGAPARTMENTS_MEDI',\n",
       "       'LIVINGAPARTMENTS_AVG', 'FONDKAPREMONT_MODE',\n",
       "       'NONLIVINGAPARTMENTS_MEDI', 'NONLIVINGAPARTMENTS_MODE',\n",
       "       'NONLIVINGAPARTMENTS_AVG', 'COMMONAREA_MODE', 'COMMONAREA_AVG',\n",
       "       'COMMONAREA_MEDI'],\n",
       "      dtype='object')"
      ]
     },
     "execution_count": 12,
     "metadata": {},
     "output_type": "execute_result"
    }
   ],
   "source": [
    "columns_with_max_missing_values.index"
   ]
  },
  {
   "cell_type": "code",
   "execution_count": 13,
   "metadata": {},
   "outputs": [],
   "source": [
    "application_dataset.drop(columns=columns_with_max_missing_values.index,inplace=True)"
   ]
  },
  {
   "cell_type": "code",
   "execution_count": 14,
   "metadata": {},
   "outputs": [
    {
     "data": {
      "text/plain": [
       "(307511, 73)"
      ]
     },
     "execution_count": 14,
     "metadata": {},
     "output_type": "execute_result"
    }
   ],
   "source": [
    "application_dataset.shape"
   ]
  },
  {
   "cell_type": "code",
   "execution_count": 15,
   "metadata": {},
   "outputs": [
    {
     "data": {
      "text/plain": [
       "DAYS_LAST_PHONE_CHANGE         0.000325\n",
       "CNT_FAM_MEMBERS                0.000650\n",
       "AMT_ANNUITY                    0.003902\n",
       "AMT_GOODS_PRICE                0.090403\n",
       "EXT_SOURCE_2                   0.214626\n",
       "DEF_60_CNT_SOCIAL_CIRCLE       0.332021\n",
       "OBS_60_CNT_SOCIAL_CIRCLE       0.332021\n",
       "DEF_30_CNT_SOCIAL_CIRCLE       0.332021\n",
       "OBS_30_CNT_SOCIAL_CIRCLE       0.332021\n",
       "NAME_TYPE_SUITE                0.420148\n",
       "AMT_REQ_CREDIT_BUREAU_MON     13.501631\n",
       "AMT_REQ_CREDIT_BUREAU_WEEK    13.501631\n",
       "AMT_REQ_CREDIT_BUREAU_DAY     13.501631\n",
       "AMT_REQ_CREDIT_BUREAU_HOUR    13.501631\n",
       "AMT_REQ_CREDIT_BUREAU_QRT     13.501631\n",
       "AMT_REQ_CREDIT_BUREAU_YEAR    13.501631\n",
       "dtype: float64"
      ]
     },
     "execution_count": 15,
     "metadata": {},
     "output_type": "execute_result"
    }
   ],
   "source": [
    "percentage_of_null[percentage_of_null<=15]"
   ]
  },
  {
   "cell_type": "code",
   "execution_count": 16,
   "metadata": {},
   "outputs": [
    {
     "data": {
      "text/plain": [
       "DAYS_LAST_PHONE_CHANGE        float64\n",
       "CNT_FAM_MEMBERS               float64\n",
       "AMT_ANNUITY                   float64\n",
       "AMT_GOODS_PRICE               float64\n",
       "EXT_SOURCE_2                  float64\n",
       "DEF_60_CNT_SOCIAL_CIRCLE      float64\n",
       "OBS_60_CNT_SOCIAL_CIRCLE      float64\n",
       "DEF_30_CNT_SOCIAL_CIRCLE      float64\n",
       "OBS_30_CNT_SOCIAL_CIRCLE      float64\n",
       "NAME_TYPE_SUITE                object\n",
       "AMT_REQ_CREDIT_BUREAU_MON     float64\n",
       "AMT_REQ_CREDIT_BUREAU_WEEK    float64\n",
       "AMT_REQ_CREDIT_BUREAU_DAY     float64\n",
       "AMT_REQ_CREDIT_BUREAU_HOUR    float64\n",
       "AMT_REQ_CREDIT_BUREAU_QRT     float64\n",
       "AMT_REQ_CREDIT_BUREAU_YEAR    float64\n",
       "dtype: object"
      ]
     },
     "execution_count": 16,
     "metadata": {},
     "output_type": "execute_result"
    }
   ],
   "source": [
    "# variables with % of missing values <= 15\n",
    "filtered_cols = application_dataset[percentage_of_null[percentage_of_null<=15].index]\n",
    "filtered_cols.dtypes"
   ]
  },
  {
   "cell_type": "code",
   "execution_count": 17,
   "metadata": {},
   "outputs": [
    {
     "data": {
      "image/png": "[encoded data removed]",
      "text/plain": [
       "<Figure size 1440x720 with 5 Axes>"
      ]
     },
     "metadata": {
      "needs_background": "light"
     },
     "output_type": "display_data"
    }
   ],
   "source": [
    "column=['DAYS_LAST_PHONE_CHANGE','AMT_REQ_CREDIT_BUREAU_MON','DEF_30_CNT_SOCIAL_CIRCLE',\n",
    "                             'OBS_60_CNT_SOCIAL_CIRCLE','AMT_ANNUITY']\n",
    "plt.figure(figsize=[20,10])\n",
    "for i in range(1,len(column)+1 ):\n",
    "    plt.subplot(2, 3, i)\n",
    "    filtered_cols[column[i-1]].plot(kind='box')\n",
    "plt.show()"
   ]
  },
  {
   "cell_type": "markdown",
   "metadata": {},
   "source": [
    "    As all the varibles we plotted have outliers so imputing missing values with mean will skew the data to one direction so\n",
    "    we'll take the median in this case and fill all the missing values with median"
   ]
  },
  {
   "cell_type": "code",
   "execution_count": 18,
   "metadata": {},
   "outputs": [
    {
     "data": {
      "text/plain": [
       "count    307510.000000\n",
       "mean       -962.858788\n",
       "std         826.808487\n",
       "min       -4292.000000\n",
       "25%       -1570.000000\n",
       "50%        -757.000000\n",
       "75%        -274.000000\n",
       "max           0.000000\n",
       "Name: DAYS_LAST_PHONE_CHANGE, dtype: float64"
      ]
     },
     "execution_count": 18,
     "metadata": {},
     "output_type": "execute_result"
    }
   ],
   "source": [
    "filtered_cols.DAYS_LAST_PHONE_CHANGE.describe()"
   ]
  },
  {
   "cell_type": "code",
   "execution_count": 19,
   "metadata": {},
   "outputs": [],
   "source": [
    "quantileValue = filtered_cols.DAYS_LAST_PHONE_CHANGE.quantile(0.01)"
   ]
  },
  {
   "cell_type": "code",
   "execution_count": 20,
   "metadata": {},
   "outputs": [
    {
     "data": {
      "image/png": "[encoded data removed]",
      "text/plain": [
       "<Figure size 432x288 with 1 Axes>"
      ]
     },
     "metadata": {
      "needs_background": "light"
     },
     "output_type": "display_data"
    }
   ],
   "source": [
    "filtered_cols.DAYS_LAST_PHONE_CHANGE[filtered_cols.DAYS_LAST_PHONE_CHANGE>quantileValue].plot(kind='box')\n",
    "plt.show()"
   ]
  },
  {
   "cell_type": "markdown",
   "metadata": {},
   "source": [
    "As we have outliers in this data so we'll replace the missing values with median which is __-757__"
   ]
  },
  {
   "cell_type": "code",
   "execution_count": 21,
   "metadata": {},
   "outputs": [
    {
     "data": {
      "text/plain": [
       "count    265992.000000\n",
       "mean          0.267395\n",
       "std           0.916002\n",
       "min           0.000000\n",
       "25%           0.000000\n",
       "50%           0.000000\n",
       "75%           0.000000\n",
       "max          27.000000\n",
       "Name: AMT_REQ_CREDIT_BUREAU_MON, dtype: float64"
      ]
     },
     "execution_count": 21,
     "metadata": {},
     "output_type": "execute_result"
    }
   ],
   "source": [
    "filtered_cols.AMT_REQ_CREDIT_BUREAU_MON.describe()"
   ]
  },
  {
   "cell_type": "markdown",
   "metadata": {},
   "source": [
    "As Most values( < 75% )  and 50% percentile are 0 so we can replace the missing values with the __0__"
   ]
  },
  {
   "cell_type": "code",
   "execution_count": 22,
   "metadata": {},
   "outputs": [
    {
     "data": {
      "text/plain": [
       "count    306490.000000\n",
       "mean          0.143421\n",
       "std           0.446698\n",
       "min           0.000000\n",
       "25%           0.000000\n",
       "50%           0.000000\n",
       "75%           0.000000\n",
       "max          34.000000\n",
       "Name: DEF_30_CNT_SOCIAL_CIRCLE, dtype: float64"
      ]
     },
     "execution_count": 22,
     "metadata": {},
     "output_type": "execute_result"
    }
   ],
   "source": [
    "filtered_cols.DEF_30_CNT_SOCIAL_CIRCLE.describe()"
   ]
  },
  {
   "cell_type": "markdown",
   "metadata": {},
   "source": [
    "As Most values( < 75% ) and 50% percentile are 0 so we can replace the missing values with the __0__"
   ]
  },
  {
   "cell_type": "code",
   "execution_count": 23,
   "metadata": {},
   "outputs": [
    {
     "data": {
      "text/plain": [
       "count    306490.000000\n",
       "mean          0.143421\n",
       "std           0.446698\n",
       "min           0.000000\n",
       "25%           0.000000\n",
       "50%           0.000000\n",
       "75%           0.000000\n",
       "max          34.000000\n",
       "Name: DEF_30_CNT_SOCIAL_CIRCLE, dtype: float64"
      ]
     },
     "execution_count": 23,
     "metadata": {},
     "output_type": "execute_result"
    }
   ],
   "source": [
    "filtered_cols.DEF_30_CNT_SOCIAL_CIRCLE.describe()"
   ]
  },
  {
   "cell_type": "markdown",
   "metadata": {},
   "source": [
    "As Most values( < 75% ) are 0 so we can replace the missing values with the __0__"
   ]
  },
  {
   "cell_type": "code",
   "execution_count": 24,
   "metadata": {},
   "outputs": [
    {
     "data": {
      "text/plain": [
       "count    306490.000000\n",
       "mean          1.405292\n",
       "std           2.379803\n",
       "min           0.000000\n",
       "25%           0.000000\n",
       "50%           0.000000\n",
       "75%           2.000000\n",
       "max         344.000000\n",
       "Name: OBS_60_CNT_SOCIAL_CIRCLE, dtype: float64"
      ]
     },
     "execution_count": 24,
     "metadata": {},
     "output_type": "execute_result"
    }
   ],
   "source": [
    "filtered_cols.OBS_60_CNT_SOCIAL_CIRCLE.describe()"
   ]
  },
  {
   "cell_type": "code",
   "execution_count": 25,
   "metadata": {},
   "outputs": [
    {
     "data": {
      "text/plain": [
       "0.0"
      ]
     },
     "execution_count": 25,
     "metadata": {},
     "output_type": "execute_result"
    }
   ],
   "source": [
    "quantileValue = filtered_cols.OBS_60_CNT_SOCIAL_CIRCLE.quantile(0.53)\n",
    "quantileValue"
   ]
  },
  {
   "cell_type": "markdown",
   "metadata": {},
   "source": [
    "As we have outliers in this data so we'll replace the missing values with median which is __0__"
   ]
  },
  {
   "cell_type": "code",
   "execution_count": 26,
   "metadata": {},
   "outputs": [
    {
     "data": {
      "text/plain": [
       "count    307499.000000\n",
       "mean      27108.573909\n",
       "std       14493.737315\n",
       "min        1615.500000\n",
       "25%       16524.000000\n",
       "50%       24903.000000\n",
       "75%       34596.000000\n",
       "max      258025.500000\n",
       "Name: AMT_ANNUITY, dtype: float64"
      ]
     },
     "execution_count": 26,
     "metadata": {},
     "output_type": "execute_result"
    }
   ],
   "source": [
    "filtered_cols.AMT_ANNUITY.describe()"
   ]
  },
  {
   "cell_type": "code",
   "execution_count": 27,
   "metadata": {},
   "outputs": [
    {
     "data": {
      "text/plain": [
       "58482.0"
      ]
     },
     "execution_count": 27,
     "metadata": {},
     "output_type": "execute_result"
    }
   ],
   "source": [
    "quantileValue = filtered_cols.AMT_ANNUITY.quantile(0.97)\n",
    "quantileValue"
   ]
  },
  {
   "cell_type": "code",
   "execution_count": 28,
   "metadata": {},
   "outputs": [
    {
     "data": {
      "image/png": "[encoded data removed]",
      "text/plain": [
       "<Figure size 432x288 with 1 Axes>"
      ]
     },
     "metadata": {
      "needs_background": "light"
     },
     "output_type": "display_data"
    }
   ],
   "source": [
    "filtered_cols.AMT_ANNUITY[filtered_cols.AMT_ANNUITY<quantileValue].plot(kind='box')\n",
    "plt.show()"
   ]
  },
  {
   "cell_type": "markdown",
   "metadata": {},
   "source": [
    "As we have outliers in this data so we'll replace the missing values with median which is __16524__"
   ]
  },
  {
   "cell_type": "code",
   "execution_count": 29,
   "metadata": {},
   "outputs": [
    {
     "data": {
      "text/plain": [
       "dtype('O')"
      ]
     },
     "execution_count": 29,
     "metadata": {},
     "output_type": "execute_result"
    }
   ],
   "source": [
    "filtered_cols.NAME_TYPE_SUITE.dtype"
   ]
  },
  {
   "cell_type": "code",
   "execution_count": 30,
   "metadata": {},
   "outputs": [
    {
     "data": {
      "text/plain": [
       "count            306219\n",
       "unique                7\n",
       "top       Unaccompanied\n",
       "freq             248526\n",
       "Name: NAME_TYPE_SUITE, dtype: object"
      ]
     },
     "execution_count": 30,
     "metadata": {},
     "output_type": "execute_result"
    }
   ],
   "source": [
    "filtered_cols.NAME_TYPE_SUITE.describe()"
   ]
  },
  {
   "cell_type": "markdown",
   "metadata": {},
   "source": [
    "This columns has string values so we will replace the missing values with the most frequent ones which is __Unaccompanied__."
   ]
  },
  {
   "cell_type": "markdown",
   "metadata": {},
   "source": [
    "# Analysing the datatypes"
   ]
  },
  {
   "cell_type": "code",
   "execution_count": 31,
   "metadata": {},
   "outputs": [
    {
     "name": "stdout",
     "output_type": "stream",
     "text": [
      "<class 'pandas.core.frame.DataFrame'>\n",
      "RangeIndex: 307511 entries, 0 to 307510\n",
      "Data columns (total 73 columns):\n",
      " #   Column                       Non-Null Count   Dtype  \n",
      "---  ------                       --------------   -----  \n",
      " 0   SK_ID_CURR                   307511 non-null  int64  \n",
      " 1   TARGET                       307511 non-null  int64  \n",
      " 2   NAME_CONTRACT_TYPE           307511 non-null  object \n",
      " 3   CODE_GENDER                  307511 non-null  object \n",
      " 4   FLAG_OWN_CAR                 307511 non-null  object \n",
      " 5   FLAG_OWN_REALTY              307511 non-null  object \n",
      " 6   CNT_CHILDREN                 307511 non-null  int64  \n",
      " 7   AMT_INCOME_TOTAL             307511 non-null  float64\n",
      " 8   AMT_CREDIT                   307511 non-null  float64\n",
      " 9   AMT_ANNUITY                  307499 non-null  float64\n",
      " 10  AMT_GOODS_PRICE              307233 non-null  float64\n",
      " 11  NAME_TYPE_SUITE              306219 non-null  object \n",
      " 12  NAME_INCOME_TYPE             307511 non-null  object \n",
      " 13  NAME_EDUCATION_TYPE          307511 non-null  object \n",
      " 14  NAME_FAMILY_STATUS           307511 non-null  object \n",
      " 15  NAME_HOUSING_TYPE            307511 non-null  object \n",
      " 16  REGION_POPULATION_RELATIVE   307511 non-null  float64\n",
      " 17  DAYS_BIRTH                   307511 non-null  int64  \n",
      " 18  DAYS_EMPLOYED                307511 non-null  int64  \n",
      " 19  DAYS_REGISTRATION            307511 non-null  float64\n",
      " 20  DAYS_ID_PUBLISH              307511 non-null  int64  \n",
      " 21  FLAG_MOBIL                   307511 non-null  int64  \n",
      " 22  FLAG_EMP_PHONE               307511 non-null  int64  \n",
      " 23  FLAG_WORK_PHONE              307511 non-null  int64  \n",
      " 24  FLAG_CONT_MOBILE             307511 non-null  int64  \n",
      " 25  FLAG_PHONE                   307511 non-null  int64  \n",
      " 26  FLAG_EMAIL                   307511 non-null  int64  \n",
      " 27  OCCUPATION_TYPE              211120 non-null  object \n",
      " 28  CNT_FAM_MEMBERS              307509 non-null  float64\n",
      " 29  REGION_RATING_CLIENT         307511 non-null  int64  \n",
      " 30  REGION_RATING_CLIENT_W_CITY  307511 non-null  int64  \n",
      " 31  WEEKDAY_APPR_PROCESS_START   307511 non-null  object \n",
      " 32  HOUR_APPR_PROCESS_START      307511 non-null  int64  \n",
      " 33  REG_REGION_NOT_LIVE_REGION   307511 non-null  int64  \n",
      " 34  REG_REGION_NOT_WORK_REGION   307511 non-null  int64  \n",
      " 35  LIVE_REGION_NOT_WORK_REGION  307511 non-null  int64  \n",
      " 36  REG_CITY_NOT_LIVE_CITY       307511 non-null  int64  \n",
      " 37  REG_CITY_NOT_WORK_CITY       307511 non-null  int64  \n",
      " 38  LIVE_CITY_NOT_WORK_CITY      307511 non-null  int64  \n",
      " 39  ORGANIZATION_TYPE            307511 non-null  object \n",
      " 40  EXT_SOURCE_2                 306851 non-null  float64\n",
      " 41  EXT_SOURCE_3                 246546 non-null  float64\n",
      " 42  OBS_30_CNT_SOCIAL_CIRCLE     306490 non-null  float64\n",
      " 43  DEF_30_CNT_SOCIAL_CIRCLE     306490 non-null  float64\n",
      " 44  OBS_60_CNT_SOCIAL_CIRCLE     306490 non-null  float64\n",
      " 45  DEF_60_CNT_SOCIAL_CIRCLE     306490 non-null  float64\n",
      " 46  DAYS_LAST_PHONE_CHANGE       307510 non-null  float64\n",
      " 47  FLAG_DOCUMENT_2              307511 non-null  int64  \n",
      " 48  FLAG_DOCUMENT_3              307511 non-null  int64  \n",
      " 49  FLAG_DOCUMENT_4              307511 non-null  int64  \n",
      " 50  FLAG_DOCUMENT_5              307511 non-null  int64  \n",
      " 51  FLAG_DOCUMENT_6              307511 non-null  int64  \n",
      " 52  FLAG_DOCUMENT_7              307511 non-null  int64  \n",
      " 53  FLAG_DOCUMENT_8              307511 non-null  int64  \n",
      " 54  FLAG_DOCUMENT_9              307511 non-null  int64  \n",
      " 55  FLAG_DOCUMENT_10             307511 non-null  int64  \n",
      " 56  FLAG_DOCUMENT_11             307511 non-null  int64  \n",
      " 57  FLAG_DOCUMENT_12             307511 non-null  int64  \n",
      " 58  FLAG_DOCUMENT_13             307511 non-null  int64  \n",
      " 59  FLAG_DOCUMENT_14             307511 non-null  int64  \n",
      " 60  FLAG_DOCUMENT_15             307511 non-null  int64  \n",
      " 61  FLAG_DOCUMENT_16             307511 non-null  int64  \n",
      " 62  FLAG_DOCUMENT_17             307511 non-null  int64  \n",
      " 63  FLAG_DOCUMENT_18             307511 non-null  int64  \n",
      " 64  FLAG_DOCUMENT_19             307511 non-null  int64  \n",
      " 65  FLAG_DOCUMENT_20             307511 non-null  int64  \n",
      " 66  FLAG_DOCUMENT_21             307511 non-null  int64  \n",
      " 67  AMT_REQ_CREDIT_BUREAU_HOUR   265992 non-null  float64\n",
      " 68  AMT_REQ_CREDIT_BUREAU_DAY    265992 non-null  float64\n",
      " 69  AMT_REQ_CREDIT_BUREAU_WEEK   265992 non-null  float64\n",
      " 70  AMT_REQ_CREDIT_BUREAU_MON    265992 non-null  float64\n",
      " 71  AMT_REQ_CREDIT_BUREAU_QRT    265992 non-null  float64\n",
      " 72  AMT_REQ_CREDIT_BUREAU_YEAR   265992 non-null  float64\n",
      "dtypes: float64(20), int64(41), object(12)\n",
      "memory usage: 171.3+ MB\n"
     ]
    }
   ],
   "source": [
    "application_dataset.info()"
   ]
  },
  {
   "cell_type": "markdown",
   "metadata": {},
   "source": [
    "#### 1. DAYS_EMPLOYED"
   ]
  },
  {
   "cell_type": "code",
   "execution_count": 32,
   "metadata": {},
   "outputs": [
    {
     "name": "stdout",
     "output_type": "stream",
     "text": [
      "Data type:  int64\n"
     ]
    },
    {
     "data": {
      "text/plain": [
       "count    307511.000000\n",
       "mean      63815.045904\n",
       "std      141275.766519\n",
       "min      -17912.000000\n",
       "25%       -2760.000000\n",
       "50%       -1213.000000\n",
       "75%        -289.000000\n",
       "max      365243.000000\n",
       "Name: DAYS_EMPLOYED, dtype: float64"
      ]
     },
     "execution_count": 32,
     "metadata": {},
     "output_type": "execute_result"
    }
   ],
   "source": [
    "print('Data type: ',application_dataset.DAYS_EMPLOYED.dtype)\n",
    "application_dataset.DAYS_EMPLOYED.describe()"
   ]
  },
  {
   "cell_type": "code",
   "execution_count": 33,
   "metadata": {},
   "outputs": [
    {
     "data": {
      "text/plain": [
       "8         365243\n",
       "11        365243\n",
       "23        365243\n",
       "38        365243\n",
       "43        365243\n",
       "           ...  \n",
       "307469    365243\n",
       "307483    365243\n",
       "307487    365243\n",
       "307505    365243\n",
       "307507    365243\n",
       "Name: DAYS_EMPLOYED, Length: 55374, dtype: int64"
      ]
     },
     "execution_count": 33,
     "metadata": {},
     "output_type": "execute_result"
    }
   ],
   "source": [
    "application_dataset.DAYS_EMPLOYED[application_dataset.DAYS_EMPLOYED>0]"
   ]
  },
  {
   "cell_type": "code",
   "execution_count": 34,
   "metadata": {},
   "outputs": [
    {
     "data": {
      "text/plain": [
       "365243    55374\n",
       "Name: DAYS_EMPLOYED, dtype: int64"
      ]
     },
     "execution_count": 34,
     "metadata": {},
     "output_type": "execute_result"
    }
   ],
   "source": [
    "application_dataset.DAYS_EMPLOYED[application_dataset.DAYS_EMPLOYED>0].value_counts()"
   ]
  },
  {
   "cell_type": "markdown",
   "metadata": {},
   "source": [
    "As the the number of days are both possitive and negative with maximum negative values there is a chance that this depicts incorrect values and even if the days were missing the negative symbol when the day count is converted into years it comes out to be around __1000__ which is practically not a correct."
   ]
  },
  {
   "cell_type": "markdown",
   "metadata": {},
   "source": [
    "#### 2. DAYS_REGISTRATION"
   ]
  },
  {
   "cell_type": "code",
   "execution_count": 35,
   "metadata": {},
   "outputs": [
    {
     "name": "stdout",
     "output_type": "stream",
     "text": [
      "Data type:  float64\n"
     ]
    },
    {
     "data": {
      "text/plain": [
       "count    307511.000000\n",
       "mean      -4986.120328\n",
       "std        3522.886321\n",
       "min      -24672.000000\n",
       "25%       -7479.500000\n",
       "50%       -4504.000000\n",
       "75%       -2010.000000\n",
       "max           0.000000\n",
       "Name: DAYS_REGISTRATION, dtype: float64"
      ]
     },
     "execution_count": 35,
     "metadata": {},
     "output_type": "execute_result"
    }
   ],
   "source": [
    "print('Data type: ',application_dataset.DAYS_REGISTRATION.dtype)\n",
    "application_dataset.DAYS_REGISTRATION.describe()"
   ]
  },
  {
   "cell_type": "markdown",
   "metadata": {},
   "source": [
    "The date count will be an integer value so changing it from __decimal__ to __int__"
   ]
  },
  {
   "cell_type": "code",
   "execution_count": 36,
   "metadata": {},
   "outputs": [],
   "source": [
    "application_dataset.DAYS_REGISTRATION = application_dataset.DAYS_REGISTRATION.astype('int')"
   ]
  },
  {
   "cell_type": "markdown",
   "metadata": {},
   "source": [
    "This columns looks good as there are no possitive values and the minimum value comes out to be around __67 years__ which is debatable"
   ]
  },
  {
   "cell_type": "markdown",
   "metadata": {},
   "source": [
    "#### 3. DAYS_ID_PUBLISH"
   ]
  },
  {
   "cell_type": "code",
   "execution_count": 37,
   "metadata": {},
   "outputs": [
    {
     "name": "stdout",
     "output_type": "stream",
     "text": [
      "Data type:  int64\n"
     ]
    },
    {
     "data": {
      "text/plain": [
       "count    307511.000000\n",
       "mean      -2994.202373\n",
       "std        1509.450419\n",
       "min       -7197.000000\n",
       "25%       -4299.000000\n",
       "50%       -3254.000000\n",
       "75%       -1720.000000\n",
       "max           0.000000\n",
       "Name: DAYS_ID_PUBLISH, dtype: float64"
      ]
     },
     "execution_count": 37,
     "metadata": {},
     "output_type": "execute_result"
    }
   ],
   "source": [
    "print('Data type: ',application_dataset.DAYS_ID_PUBLISH.dtype)\n",
    "application_dataset.DAYS_ID_PUBLISH.describe()"
   ]
  },
  {
   "cell_type": "markdown",
   "metadata": {},
   "source": [
    "This columns looks good as there are no possitive values and the minimum value comes out to be around __19 years__ which looks OK"
   ]
  },
  {
   "cell_type": "markdown",
   "metadata": {},
   "source": [
    "#### 4. FLAG_OWN_CAR"
   ]
  },
  {
   "cell_type": "code",
   "execution_count": 38,
   "metadata": {},
   "outputs": [
    {
     "name": "stdout",
     "output_type": "stream",
     "text": [
      "Data type:  object\n"
     ]
    },
    {
     "data": {
      "text/plain": [
       "count     307511\n",
       "unique         2\n",
       "top            N\n",
       "freq      202924\n",
       "Name: FLAG_OWN_CAR, dtype: object"
      ]
     },
     "execution_count": 38,
     "metadata": {},
     "output_type": "execute_result"
    }
   ],
   "source": [
    "print('Data type: ',application_dataset.FLAG_OWN_CAR.dtype)\n",
    "application_dataset.FLAG_OWN_CAR.describe()"
   ]
  },
  {
   "cell_type": "code",
   "execution_count": 39,
   "metadata": {},
   "outputs": [
    {
     "data": {
      "text/plain": [
       "N    202924\n",
       "Y    104587\n",
       "Name: FLAG_OWN_CAR, dtype: int64"
      ]
     },
     "execution_count": 39,
     "metadata": {},
     "output_type": "execute_result"
    }
   ],
   "source": [
    "application_dataset.FLAG_OWN_CAR.value_counts()"
   ]
  },
  {
   "cell_type": "markdown",
   "metadata": {},
   "source": [
    "For ease of analysis we will convert this column into __1 & 0__ where 1 means Yes and 0 means No. "
   ]
  },
  {
   "cell_type": "code",
   "execution_count": 40,
   "metadata": {},
   "outputs": [],
   "source": [
    "application_dataset['FLAG_OWN_CAR_BOOL'] = application_dataset.FLAG_OWN_CAR.apply(lambda x : 1 if x=='Y' else 0)"
   ]
  },
  {
   "cell_type": "code",
   "execution_count": 41,
   "metadata": {},
   "outputs": [
    {
     "data": {
      "text/plain": [
       "0    202924\n",
       "1    104587\n",
       "Name: FLAG_OWN_CAR_BOOL, dtype: int64"
      ]
     },
     "execution_count": 41,
     "metadata": {},
     "output_type": "execute_result"
    }
   ],
   "source": [
    "application_dataset['FLAG_OWN_CAR_BOOL'].value_counts()"
   ]
  },
  {
   "cell_type": "markdown",
   "metadata": {},
   "source": [
    "#### 5. FLAG_OWN_REALTY"
   ]
  },
  {
   "cell_type": "code",
   "execution_count": 42,
   "metadata": {},
   "outputs": [
    {
     "name": "stdout",
     "output_type": "stream",
     "text": [
      "Data type:  object\n"
     ]
    },
    {
     "data": {
      "text/plain": [
       "count     307511\n",
       "unique         2\n",
       "top            Y\n",
       "freq      213312\n",
       "Name: FLAG_OWN_REALTY, dtype: object"
      ]
     },
     "execution_count": 42,
     "metadata": {},
     "output_type": "execute_result"
    }
   ],
   "source": [
    "print('Data type: ',application_dataset.FLAG_OWN_REALTY.dtype)\n",
    "application_dataset.FLAG_OWN_REALTY.describe()"
   ]
  },
  {
   "cell_type": "code",
   "execution_count": 43,
   "metadata": {},
   "outputs": [
    {
     "data": {
      "text/plain": [
       "Y    213312\n",
       "N     94199\n",
       "Name: FLAG_OWN_REALTY, dtype: int64"
      ]
     },
     "execution_count": 43,
     "metadata": {},
     "output_type": "execute_result"
    }
   ],
   "source": [
    "application_dataset.FLAG_OWN_REALTY.value_counts()"
   ]
  },
  {
   "cell_type": "markdown",
   "metadata": {},
   "source": [
    "For ease of analysis we will convert this column also into __1 & 0__ where 1 means Yes and 0 means No. "
   ]
  },
  {
   "cell_type": "code",
   "execution_count": 44,
   "metadata": {},
   "outputs": [],
   "source": [
    "application_dataset['FLAG_OWN_REALTY_BOOL'] = application_dataset.FLAG_OWN_REALTY.apply(lambda x : 1 if x=='Y' else 0)"
   ]
  },
  {
   "cell_type": "code",
   "execution_count": 45,
   "metadata": {},
   "outputs": [
    {
     "data": {
      "text/plain": [
       "1    213312\n",
       "0     94199\n",
       "Name: FLAG_OWN_REALTY_BOOL, dtype: int64"
      ]
     },
     "execution_count": 45,
     "metadata": {},
     "output_type": "execute_result"
    }
   ],
   "source": [
    "application_dataset.FLAG_OWN_REALTY_BOOL.value_counts()"
   ]
  },
  {
   "cell_type": "markdown",
   "metadata": {},
   "source": [
    "#### 6. CNT_FAM_MEMBERS"
   ]
  },
  {
   "cell_type": "code",
   "execution_count": 46,
   "metadata": {},
   "outputs": [
    {
     "name": "stdout",
     "output_type": "stream",
     "text": [
      "Data type:  float64\n"
     ]
    },
    {
     "data": {
      "text/plain": [
       "count    307509.000000\n",
       "mean          2.152665\n",
       "std           0.910682\n",
       "min           1.000000\n",
       "25%           2.000000\n",
       "50%           2.000000\n",
       "75%           3.000000\n",
       "max          20.000000\n",
       "Name: CNT_FAM_MEMBERS, dtype: float64"
      ]
     },
     "execution_count": 46,
     "metadata": {},
     "output_type": "execute_result"
    }
   ],
   "source": [
    "print('Data type: ',application_dataset.CNT_FAM_MEMBERS.dtype)\n",
    "application_dataset.CNT_FAM_MEMBERS.describe()"
   ]
  },
  {
   "cell_type": "markdown",
   "metadata": {},
   "source": [
    "As the family members count cannot be int decimals so will convert its type from float to int"
   ]
  },
  {
   "cell_type": "code",
   "execution_count": 47,
   "metadata": {},
   "outputs": [],
   "source": [
    "# application_dataset.CNT_FAM_MEMBERS.astype('int64')\n"
   ]
  },
  {
   "cell_type": "code",
   "execution_count": 48,
   "metadata": {},
   "outputs": [],
   "source": [
    "def floatToInt(x):\n",
    "    try:\n",
    "          return int(x)\n",
    "    except:\n",
    "          return 0\n",
    "application_dataset.CNT_FAM_MEMBERS = application_dataset.CNT_FAM_MEMBERS.apply(floatToInt)"
   ]
  },
  {
   "cell_type": "code",
   "execution_count": 49,
   "metadata": {},
   "outputs": [
    {
     "data": {
      "text/plain": [
       "dtype('int64')"
      ]
     },
     "execution_count": 49,
     "metadata": {},
     "output_type": "execute_result"
    }
   ],
   "source": [
    "application_dataset.CNT_FAM_MEMBERS.dtype"
   ]
  },
  {
   "cell_type": "markdown",
   "metadata": {},
   "source": [
    "# Outliers detections and analysis"
   ]
  },
  {
   "cell_type": "markdown",
   "metadata": {},
   "source": [
    "### For finding out the outliers we are using box plot visualisation and IQR method to exclude the outliers if required"
   ]
  },
  {
   "cell_type": "code",
   "execution_count": 50,
   "metadata": {},
   "outputs": [
    {
     "data": {
      "image/png": "[encoded data removed]",
      "text/plain": [
       "<Figure size 1440x720 with 5 Axes>"
      ]
     },
     "metadata": {
      "needs_background": "light"
     },
     "output_type": "display_data"
    }
   ],
   "source": [
    "column=['DAYS_LAST_PHONE_CHANGE','AMT_INCOME_TOTAL','AMT_REQ_CREDIT_BUREAU_YEAR',\n",
    "                             'OBS_60_CNT_SOCIAL_CIRCLE','AMT_ANNUITY']\n",
    "plt.figure(figsize=[20,10])\n",
    "for i in range(1,len(column)+1 ):\n",
    "    plt.subplot(2, 3, i)\n",
    "    application_dataset[column[i-1]].plot(kind='box')\n",
    "plt.show()"
   ]
  },
  {
   "cell_type": "code",
   "execution_count": 51,
   "metadata": {},
   "outputs": [],
   "source": [
    "# method to find the lower range and upper range of the data\n",
    "def percentageOfOutliers(datacolumn):\n",
    "    sorted(datacolumn)\n",
    "    Q1,Q3 = datacolumn.quantile([0.25,0.75]).values\n",
    "    IQR = Q3 - Q1\n",
    "    lower_range = Q1 - (1.5 * IQR)\n",
    "    upper_range = Q3 + (1.5 * IQR)\n",
    "    data_without_outliers = datacolumn[\n",
    "    (datacolumn>lower_range)&(datacolumn<upper_range)]\n",
    "    print(data_without_outliers.size)\n",
    "    return(1-(data_without_outliers.size/datacolumn.size))*100"
   ]
  },
  {
   "cell_type": "markdown",
   "metadata": {},
   "source": [
    "### 1. DAYS_LAST_PHONE_CHANGE"
   ]
  },
  {
   "cell_type": "code",
   "execution_count": 52,
   "metadata": {},
   "outputs": [
    {
     "data": {
      "text/plain": [
       "307511"
      ]
     },
     "execution_count": 52,
     "metadata": {},
     "output_type": "execute_result"
    }
   ],
   "source": [
    "application_dataset.DAYS_LAST_PHONE_CHANGE.size"
   ]
  },
  {
   "cell_type": "code",
   "execution_count": 53,
   "metadata": {},
   "outputs": [
    {
     "name": "stdout",
     "output_type": "stream",
     "text": [
      "307074\n"
     ]
    },
    {
     "data": {
      "text/plain": [
       "0.14210873757362075"
      ]
     },
     "execution_count": 53,
     "metadata": {},
     "output_type": "execute_result"
    }
   ],
   "source": [
    "# % of outliers\n",
    "percentageOfOutliers(application_dataset.DAYS_LAST_PHONE_CHANGE)"
   ]
  },
  {
   "cell_type": "markdown",
   "metadata": {},
   "source": [
    "As we have less than 1% of outliers in this column so we can remove the outliers"
   ]
  },
  {
   "cell_type": "markdown",
   "metadata": {},
   "source": [
    "### 2. AMT_INCOME_TOTAL"
   ]
  },
  {
   "cell_type": "code",
   "execution_count": 54,
   "metadata": {},
   "outputs": [
    {
     "data": {
      "text/plain": [
       "307511"
      ]
     },
     "execution_count": 54,
     "metadata": {},
     "output_type": "execute_result"
    }
   ],
   "source": [
    "application_dataset.AMT_INCOME_TOTAL.size"
   ]
  },
  {
   "cell_type": "code",
   "execution_count": 55,
   "metadata": {},
   "outputs": [
    {
     "name": "stdout",
     "output_type": "stream",
     "text": [
      "291686\n"
     ]
    },
    {
     "data": {
      "text/plain": [
       "5.146157373232175"
      ]
     },
     "execution_count": 55,
     "metadata": {},
     "output_type": "execute_result"
    }
   ],
   "source": [
    "# % of outliers\n",
    "percentageOfOutliers(application_dataset.AMT_INCOME_TOTAL)"
   ]
  },
  {
   "cell_type": "markdown",
   "metadata": {},
   "source": [
    "As we have around 5% of data as outlier so we cannot afford to delete those so we will cap those values with upper and lower range respectively"
   ]
  },
  {
   "cell_type": "markdown",
   "metadata": {},
   "source": [
    "### 3. AMT_REQ_CREDIT_BUREAU_YEAR"
   ]
  },
  {
   "cell_type": "code",
   "execution_count": 56,
   "metadata": {},
   "outputs": [
    {
     "name": "stdout",
     "output_type": "stream",
     "text": [
      "262628\n"
     ]
    },
    {
     "data": {
      "text/plain": [
       "14.59557544282969"
      ]
     },
     "execution_count": 56,
     "metadata": {},
     "output_type": "execute_result"
    }
   ],
   "source": [
    "# % of outliers\n",
    "percentageOfOutliers(application_dataset.AMT_REQ_CREDIT_BUREAU_YEAR)"
   ]
  },
  {
   "cell_type": "markdown",
   "metadata": {},
   "source": [
    "Here also the 14 % are outliers so will cap those too"
   ]
  },
  {
   "cell_type": "markdown",
   "metadata": {},
   "source": [
    "### 4. OBS_60_CNT_SOCIAL_CIRCLE"
   ]
  },
  {
   "cell_type": "code",
   "execution_count": 57,
   "metadata": {},
   "outputs": [
    {
     "name": "stdout",
     "output_type": "stream",
     "text": [
      "277463\n"
     ]
    },
    {
     "data": {
      "text/plain": [
       "9.771357772567491"
      ]
     },
     "execution_count": 57,
     "metadata": {},
     "output_type": "execute_result"
    }
   ],
   "source": [
    "# % of outliers\n",
    "percentageOfOutliers(application_dataset.OBS_60_CNT_SOCIAL_CIRCLE)"
   ]
  },
  {
   "cell_type": "markdown",
   "metadata": {},
   "source": [
    "Here 9 % data are outliers so will cap those"
   ]
  },
  {
   "cell_type": "markdown",
   "metadata": {},
   "source": [
    "### 5. AMT_ANNUITY"
   ]
  },
  {
   "cell_type": "code",
   "execution_count": 58,
   "metadata": {},
   "outputs": [
    {
     "name": "stdout",
     "output_type": "stream",
     "text": [
      "299995\n"
     ]
    },
    {
     "data": {
      "text/plain": [
       "2.444140209618517"
      ]
     },
     "execution_count": 58,
     "metadata": {},
     "output_type": "execute_result"
    }
   ],
   "source": [
    "# % of outliers\n",
    "percentageOfOutliers(application_dataset.AMT_ANNUITY)"
   ]
  },
  {
   "cell_type": "markdown",
   "metadata": {},
   "source": [
    "Here we can delete the outliers"
   ]
  },
  {
   "cell_type": "markdown",
   "metadata": {},
   "source": [
    "# Bucketing of data"
   ]
  },
  {
   "cell_type": "code",
   "execution_count": 59,
   "metadata": {},
   "outputs": [
    {
     "name": "stdout",
     "output_type": "stream",
     "text": [
      "<class 'pandas.core.frame.DataFrame'>\n",
      "RangeIndex: 307511 entries, 0 to 307510\n",
      "Data columns (total 75 columns):\n",
      " #   Column                       Non-Null Count   Dtype  \n",
      "---  ------                       --------------   -----  \n",
      " 0   SK_ID_CURR                   307511 non-null  int64  \n",
      " 1   TARGET                       307511 non-null  int64  \n",
      " 2   NAME_CONTRACT_TYPE           307511 non-null  object \n",
      " 3   CODE_GENDER                  307511 non-null  object \n",
      " 4   FLAG_OWN_CAR                 307511 non-null  object \n",
      " 5   FLAG_OWN_REALTY              307511 non-null  object \n",
      " 6   CNT_CHILDREN                 307511 non-null  int64  \n",
      " 7   AMT_INCOME_TOTAL             307511 non-null  float64\n",
      " 8   AMT_CREDIT                   307511 non-null  float64\n",
      " 9   AMT_ANNUITY                  307499 non-null  float64\n",
      " 10  AMT_GOODS_PRICE              307233 non-null  float64\n",
      " 11  NAME_TYPE_SUITE              306219 non-null  object \n",
      " 12  NAME_INCOME_TYPE             307511 non-null  object \n",
      " 13  NAME_EDUCATION_TYPE          307511 non-null  object \n",
      " 14  NAME_FAMILY_STATUS           307511 non-null  object \n",
      " 15  NAME_HOUSING_TYPE            307511 non-null  object \n",
      " 16  REGION_POPULATION_RELATIVE   307511 non-null  float64\n",
      " 17  DAYS_BIRTH                   307511 non-null  int64  \n",
      " 18  DAYS_EMPLOYED                307511 non-null  int64  \n",
      " 19  DAYS_REGISTRATION            307511 non-null  int32  \n",
      " 20  DAYS_ID_PUBLISH              307511 non-null  int64  \n",
      " 21  FLAG_MOBIL                   307511 non-null  int64  \n",
      " 22  FLAG_EMP_PHONE               307511 non-null  int64  \n",
      " 23  FLAG_WORK_PHONE              307511 non-null  int64  \n",
      " 24  FLAG_CONT_MOBILE             307511 non-null  int64  \n",
      " 25  FLAG_PHONE                   307511 non-null  int64  \n",
      " 26  FLAG_EMAIL                   307511 non-null  int64  \n",
      " 27  OCCUPATION_TYPE              211120 non-null  object \n",
      " 28  CNT_FAM_MEMBERS              307511 non-null  int64  \n",
      " 29  REGION_RATING_CLIENT         307511 non-null  int64  \n",
      " 30  REGION_RATING_CLIENT_W_CITY  307511 non-null  int64  \n",
      " 31  WEEKDAY_APPR_PROCESS_START   307511 non-null  object \n",
      " 32  HOUR_APPR_PROCESS_START      307511 non-null  int64  \n",
      " 33  REG_REGION_NOT_LIVE_REGION   307511 non-null  int64  \n",
      " 34  REG_REGION_NOT_WORK_REGION   307511 non-null  int64  \n",
      " 35  LIVE_REGION_NOT_WORK_REGION  307511 non-null  int64  \n",
      " 36  REG_CITY_NOT_LIVE_CITY       307511 non-null  int64  \n",
      " 37  REG_CITY_NOT_WORK_CITY       307511 non-null  int64  \n",
      " 38  LIVE_CITY_NOT_WORK_CITY      307511 non-null  int64  \n",
      " 39  ORGANIZATION_TYPE            307511 non-null  object \n",
      " 40  EXT_SOURCE_2                 306851 non-null  float64\n",
      " 41  EXT_SOURCE_3                 246546 non-null  float64\n",
      " 42  OBS_30_CNT_SOCIAL_CIRCLE     306490 non-null  float64\n",
      " 43  DEF_30_CNT_SOCIAL_CIRCLE     306490 non-null  float64\n",
      " 44  OBS_60_CNT_SOCIAL_CIRCLE     306490 non-null  float64\n",
      " 45  DEF_60_CNT_SOCIAL_CIRCLE     306490 non-null  float64\n",
      " 46  DAYS_LAST_PHONE_CHANGE       307510 non-null  float64\n",
      " 47  FLAG_DOCUMENT_2              307511 non-null  int64  \n",
      " 48  FLAG_DOCUMENT_3              307511 non-null  int64  \n",
      " 49  FLAG_DOCUMENT_4              307511 non-null  int64  \n",
      " 50  FLAG_DOCUMENT_5              307511 non-null  int64  \n",
      " 51  FLAG_DOCUMENT_6              307511 non-null  int64  \n",
      " 52  FLAG_DOCUMENT_7              307511 non-null  int64  \n",
      " 53  FLAG_DOCUMENT_8              307511 non-null  int64  \n",
      " 54  FLAG_DOCUMENT_9              307511 non-null  int64  \n",
      " 55  FLAG_DOCUMENT_10             307511 non-null  int64  \n",
      " 56  FLAG_DOCUMENT_11             307511 non-null  int64  \n",
      " 57  FLAG_DOCUMENT_12             307511 non-null  int64  \n",
      " 58  FLAG_DOCUMENT_13             307511 non-null  int64  \n",
      " 59  FLAG_DOCUMENT_14             307511 non-null  int64  \n",
      " 60  FLAG_DOCUMENT_15             307511 non-null  int64  \n",
      " 61  FLAG_DOCUMENT_16             307511 non-null  int64  \n",
      " 62  FLAG_DOCUMENT_17             307511 non-null  int64  \n",
      " 63  FLAG_DOCUMENT_18             307511 non-null  int64  \n",
      " 64  FLAG_DOCUMENT_19             307511 non-null  int64  \n",
      " 65  FLAG_DOCUMENT_20             307511 non-null  int64  \n",
      " 66  FLAG_DOCUMENT_21             307511 non-null  int64  \n",
      " 67  AMT_REQ_CREDIT_BUREAU_HOUR   265992 non-null  float64\n",
      " 68  AMT_REQ_CREDIT_BUREAU_DAY    265992 non-null  float64\n",
      " 69  AMT_REQ_CREDIT_BUREAU_WEEK   265992 non-null  float64\n",
      " 70  AMT_REQ_CREDIT_BUREAU_MON    265992 non-null  float64\n",
      " 71  AMT_REQ_CREDIT_BUREAU_QRT    265992 non-null  float64\n",
      " 72  AMT_REQ_CREDIT_BUREAU_YEAR   265992 non-null  float64\n",
      " 73  FLAG_OWN_CAR_BOOL            307511 non-null  int64  \n",
      " 74  FLAG_OWN_REALTY_BOOL         307511 non-null  int64  \n",
      "dtypes: float64(18), int32(1), int64(44), object(12)\n",
      "memory usage: 174.8+ MB\n"
     ]
    }
   ],
   "source": [
    "application_dataset.info()"
   ]
  },
  {
   "cell_type": "code",
   "execution_count": 60,
   "metadata": {},
   "outputs": [
    {
     "data": {
      "text/plain": [
       "<matplotlib.axes._subplots.AxesSubplot at 0x2483843f3c8>"
      ]
     },
     "execution_count": 60,
     "metadata": {},
     "output_type": "execute_result"
    },
    {
     "data": {
      "image/png": "[encoded data removed]",
      "text/plain": [
       "<Figure size 432x288 with 1 Axes>"
      ]
     },
     "metadata": {
      "needs_background": "light"
     },
     "output_type": "display_data"
    }
   ],
   "source": [
    "application_dataset.AMT_INCOME_TOTAL.plot.box()"
   ]
  },
  {
   "cell_type": "code",
   "execution_count": 61,
   "metadata": {},
   "outputs": [],
   "source": [
    "application_dataset['AMT_INCOME_TOTAL/Lac'] = application_dataset.AMT_INCOME_TOTAL.apply(lambda x: x/100000)"
   ]
  },
  {
   "cell_type": "code",
   "execution_count": 62,
   "metadata": {},
   "outputs": [
    {
     "data": {
      "text/plain": [
       "count    307511.000000\n",
       "mean          1.687979\n",
       "std           2.371231\n",
       "min           0.256500\n",
       "25%           1.125000\n",
       "50%           1.471500\n",
       "75%           2.025000\n",
       "max        1170.000000\n",
       "Name: AMT_INCOME_TOTAL/Lac, dtype: float64"
      ]
     },
     "execution_count": 62,
     "metadata": {},
     "output_type": "execute_result"
    }
   ],
   "source": [
    "application_dataset['AMT_INCOME_TOTAL/Lac'].describe()"
   ]
  },
  {
   "cell_type": "code",
   "execution_count": 63,
   "metadata": {},
   "outputs": [
    {
     "data": {
      "text/plain": [
       "9.0"
      ]
     },
     "execution_count": 63,
     "metadata": {},
     "output_type": "execute_result"
    }
   ],
   "source": [
    "application_dataset['AMT_INCOME_TOTAL/Lac'].quantile(0.999)"
   ]
  },
  {
   "cell_type": "code",
   "execution_count": 64,
   "metadata": {},
   "outputs": [
    {
     "data": {
      "text/plain": [
       "<matplotlib.axes._subplots.AxesSubplot at 0x24839e501c8>"
      ]
     },
     "execution_count": 64,
     "metadata": {},
     "output_type": "execute_result"
    },
    {
     "data": {
      "image/png": "[encoded data removed]",
      "text/plain": [
       "<Figure size 432x288 with 1 Axes>"
      ]
     },
     "metadata": {
      "needs_background": "light"
     },
     "output_type": "display_data"
    }
   ],
   "source": [
    "application_dataset['AMT_INCOME_TOTAL/Lac'][application_dataset['AMT_INCOME_TOTAL/Lac']<15].plot.box()"
   ]
  },
  {
   "cell_type": "code",
   "execution_count": 65,
   "metadata": {},
   "outputs": [
    {
     "data": {
      "text/plain": [
       "1.0 - 1.5      91591\n",
       "1.5 - 2.0      64307\n",
       "0.5 - 1.0      59181\n",
       "2.0 - 2.5      48137\n",
       "2.5 - 3.0      17039\n",
       "3.0 - 3.5       8874\n",
       "3.5 - 4.0       5802\n",
       "4.0 - 4.5       4924\n",
       "0.0 - 0.5       4517\n",
       "5.0 - 5.5        835\n",
       "6.5 - 7.0        698\n",
       "4.5 - 5.0        437\n",
       "5.5 - 6.0        260\n",
       "8.5 - 9.0        200\n",
       "6.0 - 6.5        171\n",
       "8.0 - 8.5         98\n",
       "7.0 - 7.5         94\n",
       "> 15.0            84\n",
       "11.0 - 11.5       71\n",
       "7.5 - 8.0         68\n",
       "13.0 - 13.5       55\n",
       "9.0 - 9.5         17\n",
       "9.5 - 10.0        11\n",
       "10.0 - 10.5       11\n",
       "10.5 - 11.0        7\n",
       "12.0 - 12.5        7\n",
       "12.5 - 13.0        7\n",
       "11.5 - 12.0        3\n",
       "14.0 - 14.5        3\n",
       "13.5 - 14.0        2\n",
       "14.5 - 15.0        0\n",
       "Name: INCOME_BUCKETS, dtype: int64"
      ]
     },
     "execution_count": 65,
     "metadata": {},
     "output_type": "execute_result"
    }
   ],
   "source": [
    "bins = np.append(np.linspace(0, 15, 31),application_dataset['AMT_INCOME_TOTAL/Lac'].max())\n",
    "def create_labels(ls):\n",
    "    new_list = []\n",
    "    for i in range(1,len(ls)):\n",
    "        if i==len(ls)-1:\n",
    "            new_list.append('> {0}'.format(ls[i-1])) \n",
    "        else:\n",
    "            new_list.append('{0} - {1}'.format(ls[i-1],ls[i]))\n",
    "    return new_list\n",
    "label = create_labels(bins)\n",
    "\n",
    "application_dataset['INCOME_BUCKETS'] = pd.cut(application_dataset['AMT_INCOME_TOTAL/Lac'],\n",
    "       bins=bins,right=True,labels=label)\n",
    "application_dataset['INCOME_BUCKETS'].value_counts()"
   ]
  },
  {
   "cell_type": "code",
   "execution_count": 66,
   "metadata": {},
   "outputs": [
    {
     "data": {
      "text/plain": [
       "2     158357\n",
       "1      67847\n",
       "3      52601\n",
       "4      24697\n",
       "5       3478\n",
       "6        408\n",
       "7         81\n",
       "8         20\n",
       "9          6\n",
       "10         3\n",
       "20         2\n",
       "16         2\n",
       "12         2\n",
       "14         2\n",
       "0          2\n",
       "11         1\n",
       "13         1\n",
       "15         1\n",
       "Name: CNT_FAM_MEMBERS, dtype: int64"
      ]
     },
     "execution_count": 66,
     "metadata": {},
     "output_type": "execute_result"
    }
   ],
   "source": [
    "application_dataset.CNT_FAM_MEMBERS.value_counts()"
   ]
  },
  {
   "cell_type": "markdown",
   "metadata": {},
   "source": [
    "This we can keep as it is as the number of unique values are less"
   ]
  },
  {
   "cell_type": "code",
   "execution_count": 67,
   "metadata": {},
   "outputs": [
    {
     "data": {
      "text/plain": [
       "<matplotlib.axes._subplots.AxesSubplot at 0x2483c9b87c8>"
      ]
     },
     "execution_count": 67,
     "metadata": {},
     "output_type": "execute_result"
    },
    {
     "data": {
      "image/png": "[encoded data removed]",
      "text/plain": [
       "<Figure size 432x288 with 1 Axes>"
      ]
     },
     "metadata": {
      "needs_background": "light"
     },
     "output_type": "display_data"
    }
   ],
   "source": [
    "application_dataset.AMT_REQ_CREDIT_BUREAU_YEAR.plot.box()"
   ]
  },
  {
   "cell_type": "markdown",
   "metadata": {},
   "source": [
    "# Analysis of columns (Univariate and Bivariate)"
   ]
  },
  {
   "cell_type": "code",
   "execution_count": 68,
   "metadata": {},
   "outputs": [
    {
     "data": {
      "text/plain": [
       "0    0.919271\n",
       "1    0.080729\n",
       "Name: TARGET, dtype: float64"
      ]
     },
     "execution_count": 68,
     "metadata": {},
     "output_type": "execute_result"
    }
   ],
   "source": [
    "application_dataset.TARGET.value_counts(normalize=True)"
   ]
  },
  {
   "cell_type": "markdown",
   "metadata": {},
   "source": [
    "Here we have imbalanced data so we can either decrease the amount of data available for 0 or we can add sum sample data to 1 to match them out"
   ]
  },
  {
   "cell_type": "code",
   "execution_count": 69,
   "metadata": {},
   "outputs": [],
   "source": [
    "df_0 = application_dataset[application_dataset.TARGET==0]\n",
    "df_1 = application_dataset[application_dataset.TARGET==1]"
   ]
  },
  {
   "cell_type": "code",
   "execution_count": 70,
   "metadata": {},
   "outputs": [
    {
     "data": {
      "text/plain": [
       "(24825, 77)"
      ]
     },
     "execution_count": 70,
     "metadata": {},
     "output_type": "execute_result"
    }
   ],
   "source": [
    "df_1.shape"
   ]
  },
  {
   "cell_type": "code",
   "execution_count": 71,
   "metadata": {},
   "outputs": [
    {
     "data": {
      "text/plain": [
       "(282686, 77)"
      ]
     },
     "execution_count": 71,
     "metadata": {},
     "output_type": "execute_result"
    }
   ],
   "source": [
    "df_0.shape"
   ]
  },
  {
   "cell_type": "code",
   "execution_count": 79,
   "metadata": {},
   "outputs": [
    {
     "data": {
      "image/png": "[encoded data removed]",
      "text/plain": [
       "<Figure size 640x480 with 1 Axes>"
      ]
     },
     "metadata": {},
     "output_type": "display_data"
    }
   ],
   "source": [
    "# sns.distplot(df_0.CODE_GENDER,bins = 20,color='g')\n",
    "\n",
    "df_0.CODE_GENDER.value_counts().plot(kind = 'pie')\n",
    "plt.legend()\n",
    "plt.show()"
   ]
  },
  {
   "cell_type": "markdown",
   "metadata": {},
   "source": [
    "Here we get to see another gender category __XNA__ it coulfd be an incorrect data but to be on safer side we will consider this category as __Others__"
   ]
  },
  {
   "cell_type": "code",
   "execution_count": 78,
   "metadata": {},
   "outputs": [
    {
     "data": {
      "image/png": "[encoded data removed]",
      "text/plain": [
       "<Figure size 640x480 with 1 Axes>"
      ]
     },
     "metadata": {},
     "output_type": "display_data"
    }
   ],
   "source": [
    "plt.style.use('default')\n",
    "df_1.CODE_GENDER.value_counts().plot(kind = 'pie')\n",
    "plt.legend()\n",
    "plt.show()"
   ]
  },
  {
   "cell_type": "markdown",
   "metadata": {},
   "source": [
    "Here we get to see "
   ]
  }
 ],
 "metadata": {
  "kernelspec": {
   "display_name": "Python 3",
   "language": "python",
   "name": "python3"
  },
  "language_info": {
   "codemirror_mode": {
    "name": "ipython",
    "version": 3
   },
   "file_extension": ".py",
   "mimetype": "text/x-python",
   "name": "python",
   "nbconvert_exporter": "python",
   "pygments_lexer": "ipython3",
   "version": "3.7.6"
  }
 },
 "nbformat": 4,
 "nbformat_minor": 4
}
